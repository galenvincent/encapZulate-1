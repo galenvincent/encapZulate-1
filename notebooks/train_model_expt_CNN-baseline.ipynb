{
 "cells": [
  {
   "cell_type": "code",
   "execution_count": 1,
   "metadata": {},
   "outputs": [
    {
     "name": "stderr",
     "output_type": "stream",
     "text": [
      "Using TensorFlow backend.\n"
     ]
    },
    {
     "data": {
      "text/plain": [
       "'2.3.1'"
      ]
     },
     "execution_count": 1,
     "metadata": {},
     "output_type": "execute_result"
    }
   ],
   "source": [
    "import matplotlib.pyplot as plt\n",
    "import numpy as np\n",
    "import tensorflow as tf\n",
    "from datetime import datetime\n",
    "import shutil\n",
    "\n",
    "tf_config = tf.ConfigProto()\n",
    "tf_config.gpu_options.allow_growth = True\n",
    "sess = tf.Session(config=tf_config)\n",
    "\n",
    "import sys\n",
    "from pathlib import Path\n",
    "\n",
    "import keras\n",
    "import pandas as pd\n",
    "from keras import backend as K\n",
    "from keras import layers, models, optimizers, regularizers\n",
    "from keras.initializers import Constant\n",
    "from keras.callbacks import CSVLogger, LearningRateScheduler, ModelCheckpoint\n",
    "from keras.layers import (\n",
    "    Activation,\n",
    "    BatchNormalization,\n",
    "    Concatenate,\n",
    "    Conv1D,\n",
    "    Conv2D,\n",
    "    Conv2DTranspose,\n",
    "    Concatenate,\n",
    "    Dense,\n",
    "    Dropout,\n",
    "    Flatten,\n",
    "    Input,\n",
    "    Lambda,\n",
    "    Layer,\n",
    "    MaxPooling2D,\n",
    "    AveragePooling2D,\n",
    "    PReLU,\n",
    "    Reshape,\n",
    "    Softmax,\n",
    ")\n",
    "from keras.utils import to_categorical, multi_gpu_model\n",
    "\n",
    "keras.__version__"
   ]
  },
  {
   "cell_type": "code",
   "execution_count": 2,
   "metadata": {},
   "outputs": [],
   "source": [
    "## Change to your own path\n",
    "path_photoz = \"/jet/home/gvincent/encapZulate-1/src\"\n",
    "\n",
    "sys.path.insert(1, path_photoz)\n",
    "path_photoz = Path(path_photoz)"
   ]
  },
  {
   "cell_type": "code",
   "execution_count": 3,
   "metadata": {},
   "outputs": [],
   "source": [
    "from encapzulate.data_loader.data_loader import load_data, DataGenerator, load_GOES, load_RMW\n",
    "from encapzulate.models.multi_gpu import MultiGPUModel\n",
    "from encapzulate.utils import metrics\n",
    "from encapzulate.utils.fileio import load_config, load_model"
   ]
  },
  {
   "cell_type": "code",
   "execution_count": 4,
   "metadata": {},
   "outputs": [
    {
     "data": {
      "text/plain": [
       "{'run_name': 'CNNbaseline',\n",
       " 'num_gpus': 4,\n",
       " 'compile_on': 'cpu',\n",
       " 'path_data': '/ocean/projects/dms190029p/gvincent/tc-rmw-data',\n",
       " 'dataset': 'satellite_images_clean',\n",
       " 'dataset_aux': 'tc_data_clean',\n",
       " 'dataloader': 'RMW',\n",
       " 'image_shape': (200, 200, 1),\n",
       " 'class_var': 'intensity',\n",
       " 'eye_check': 'include',\n",
       " 'num_class': 3,\n",
       " 'max_year_train': 2016,\n",
       " 'max_year_dev': 2018,\n",
       " 'random_state': 200,\n",
       " 'image_scale': 50.0,\n",
       " 'class_weights': [1.0, 1.0],\n",
       " 'grid_scale': 4.0,\n",
       " 'model_name': None,\n",
       " 'routings': 3,\n",
       " 'dim_capsule': 16,\n",
       " 'batch_size': 200,\n",
       " 'epochs': 25,\n",
       " 'checkpoint': None,\n",
       " 'learning_rate': 1e-05,\n",
       " 'decay_rate': 0.95,\n",
       " 'lam_recon': 0.75,\n",
       " 'hwhm': 175.0,\n",
       " 'timeline': False,\n",
       " 'path_results': None,\n",
       " 'input_shape': (200, 200, 1)}"
      ]
     },
     "execution_count": 4,
     "metadata": {},
     "output_type": "execute_result"
    }
   ],
   "source": [
    "CONFIG_FILE = 'galen_CNN-baseline.yml'\n",
    "config = load_config(path_photoz / \"encapzulate\" / \"configs\" / CONFIG_FILE, verbose = False)\n",
    "config[\"input_shape\"] = config[\"image_shape\"]\n",
    "config[\"num_gpus\"] = 4\n",
    "#config['dataset'] = 'satellite_images_dev'\n",
    "#config['dataset_aux'] = 'tc_data_dev'\n",
    "#config[\"run_name\"] = \"CNNbaseline_no-transfer-learning\"\n",
    "config[\"epochs\"] = 25\n",
    "config[\"batch_size\"] = 200\n",
    "config[\"class_weights\"] = [1.0, 1.0]\n",
    "config[\"learning_rate\"] = 1e-5\n",
    "config"
   ]
  },
  {
   "cell_type": "code",
   "execution_count": 5,
   "metadata": {},
   "outputs": [],
   "source": [
    "path_output = \"/jet/home/gvincent/encapZulate-1/src/results\"\n",
    "path_output = Path(path_output)\n",
    "path_results = path_output / config[\"run_name\"] / (datetime.today().strftime('%Y-%m-%d'))\n",
    "\n",
    "path_classification = path_results / \"classification_step\"\n",
    "path_c_logs = path_classification / \"logs\"\n",
    "path_c_weights = path_classification / \"weights\"\n",
    "\n",
    "path_regression = path_results / \"regression_step\"\n",
    "path_r_goes = path_regression / \"goes\"\n",
    "path_r_goes_ebt = path_regression/\"goes_and_ebt\"\n",
    "\n",
    "path_r_logs = path_r_goes / \"logs\"\n",
    "path_r_weights = path_r_goes / \"weights\"\n",
    "\n",
    "path_r_ebt_logs = path_r_goes_ebt / \"logs\"\n",
    "path_r_ebt_weights = path_r_goes_ebt / \"weights\""
   ]
  },
  {
   "cell_type": "code",
   "execution_count": 41,
   "metadata": {},
   "outputs": [],
   "source": [
    "path_c_logs.mkdir(parents=True, exist_ok=True)\n",
    "path_c_weights.mkdir(parents=True, exist_ok=True)\n",
    "path_r_logs.mkdir(parents=True, exist_ok=True)\n",
    "path_r_weights.mkdir(parents=True, exist_ok=True)\n",
    "path_r_ebt_logs.mkdir(parents=True, exist_ok=True)\n",
    "path_r_ebt_weights.mkdir(parents=True, exist_ok=True)\n",
    "\n",
    "pd.Series(config).to_csv(path_results / \"config.csv\") # Save config file used"
   ]
  },
  {
   "cell_type": "markdown",
   "metadata": {},
   "source": [
    "# Intensity Classifier Step"
   ]
  },
  {
   "cell_type": "code",
   "execution_count": 17,
   "metadata": {},
   "outputs": [
    {
     "name": "stdout",
     "output_type": "stream",
     "text": [
      "Training (2000 - 2016): (53880, 200, 200, 1)\n",
      "\n",
      "Validation (2017 - 2018): (8571, 200, 200, 1)\n",
      "\n",
      "Testing (2019 - 2020): (9144, 200, 200, 1)\n",
      "\n",
      "Total: 71595\n"
     ]
    }
   ],
   "source": [
    "((x_train, y_train, rmw_train, aux_train),\n",
    " (x_dev, y_dev, rmw_dev, aux_dev),\n",
    " (x_test, y_test, rmw_test, aux_test)) = load_GOES(**config)\n",
    "\n",
    "max_year_train = config['max_year_train']\n",
    "max_year_dev = config['max_year_dev']\n",
    "print(f'Training (2000 - {max_year_train}): {x_train.shape}\\n')\n",
    "print(f'Validation ({max_year_train + 1} - {max_year_dev}): {x_dev.shape}\\n')\n",
    "print(f'Testing ({max_year_dev + 1} - 2020): {x_test.shape}\\n')\n",
    "print(f'Total: {x_train.shape[0] + x_dev.shape[0] + x_test.shape[0]}')"
   ]
  },
  {
   "cell_type": "code",
   "execution_count": 6,
   "metadata": {},
   "outputs": [],
   "source": [
    "# Define classifier model \n",
    "\n",
    "DROPUOUT_FRAC = 0.5\n",
    "def TranferNet(input_shape, verbose = True, **kwargs):\n",
    "    \n",
    "    x = Input(shape=input_shape)\n",
    "    l = x\n",
    "    \n",
    "    l = Conv2D(\n",
    "        25,\n",
    "        (5, 5),\n",
    "        strides=(1, 1),\n",
    "        activation=None,\n",
    "        padding=\"valid\",\n",
    "        kernel_initializer=\"he_normal\",\n",
    "    )(l)\n",
    "    l = PReLU(shared_axes = [1, 2])(l)\n",
    "    \n",
    "    l = AveragePooling2D(pool_size = (2, 2))(l)\n",
    "    \n",
    "    l = Conv2D(\n",
    "        25,\n",
    "        (5, 5),\n",
    "        strides=(1, 1),\n",
    "        activation=None,\n",
    "        padding=\"valid\",\n",
    "        kernel_initializer=\"he_normal\",\n",
    "    )(l) \n",
    "    l = PReLU(shared_axes = [1, 2])(l)\n",
    "    \n",
    "    l = Conv2D(\n",
    "        25,\n",
    "        (5, 5),\n",
    "        strides=(1, 1),\n",
    "        activation=None,\n",
    "        padding=\"valid\",\n",
    "        kernel_initializer=\"he_normal\",\n",
    "    )(l) \n",
    "    l = PReLU(shared_axes = [1, 2])(l)\n",
    "    \n",
    "    l = AveragePooling2D(pool_size = (2, 2))(l)\n",
    "    \n",
    "    l = Conv2D(\n",
    "        25,\n",
    "        (5, 5),\n",
    "        strides=(1, 1),\n",
    "        activation=None,\n",
    "        padding=\"valid\",\n",
    "        kernel_initializer=\"he_normal\",\n",
    "    )(l) \n",
    "    l = PReLU(shared_axes = [1, 2])(l)\n",
    "    \n",
    "    l = Conv2D(\n",
    "        25,\n",
    "        (5, 5),\n",
    "        strides=(1, 1),\n",
    "        activation=None,\n",
    "        padding=\"valid\",\n",
    "        kernel_initializer=\"he_normal\",\n",
    "    )(l) \n",
    "    l = PReLU(shared_axes = [1, 2])(l)\n",
    "    \n",
    "    l = AveragePooling2D(pool_size = (2, 2))(l)\n",
    "    \n",
    "    l = Conv2D(\n",
    "        20,\n",
    "        (5, 5),\n",
    "        strides=(1, 1),\n",
    "        activation=None,\n",
    "        padding=\"valid\",\n",
    "        kernel_initializer=\"he_normal\",\n",
    "    )(l) \n",
    "    l = PReLU(shared_axes = [1, 2])(l)\n",
    "    out1 = l\n",
    "    \n",
    "    l = Flatten()(l)\n",
    "    l = Dense(\n",
    "        548,\n",
    "        kernel_initializer=\"he_normal\",\n",
    "    )(l)\n",
    "    l = PReLU()(l)\n",
    "    l = Dropout(DROPUOUT_FRAC)(l)\n",
    "    \n",
    "    l = Dense(\n",
    "        548,\n",
    "        kernel_initializer=\"he_normal\",\n",
    "    )(l)\n",
    "    l = PReLU()(l)\n",
    "    l = Dropout(DROPUOUT_FRAC)(l)\n",
    "\n",
    "    l = Dense(\n",
    "        3,\n",
    "        kernel_initializer=\"he_normal\"\n",
    "    )(l)\n",
    "    \n",
    "    cnn_filter_model = models.Model(x, out1, name = 'filters') # This model will be frozen and used later for RMW regression\n",
    "    classifier_model = models.Model(x, l, name = 'classifier') # This is the full classification model\n",
    "    \n",
    "    if verbose:\n",
    "        print(classifier_model.summary())\n",
    "\n",
    "    return cnn_filter_model, classifier_model"
   ]
  },
  {
   "cell_type": "code",
   "execution_count": 13,
   "metadata": {},
   "outputs": [],
   "source": [
    "filter_model, classifier_model = TranferNet(verbose = False, **config)\n",
    "parallel_model = MultiGPUModel(classifier_model, gpus=config['num_gpus']) # configure for multi-GPU\n",
    "classifier_model = parallel_model"
   ]
  },
  {
   "cell_type": "code",
   "execution_count": 14,
   "metadata": {},
   "outputs": [],
   "source": [
    "# Compile model\n",
    "CLASSIFIER_LEARNING_RATE = 1e-5\n",
    "CLASSIFIER_DECAY_RATE = 0.985\n",
    "CLASSIFIER_EPOCHS = 25\n",
    "\n",
    "compile_kwargs = {\n",
    "                \"optimizer\": optimizers.Adam(lr=CLASSIFIER_LEARNING_RATE),\n",
    "                \"loss\": tf.keras.losses.CategoricalCrossentropy(from_logits=True),\n",
    "                \"metrics\": [\n",
    "                    'accuracy',\n",
    "                    tf.keras.metrics.Precision(class_id = 0, name = 'TS_prec'),\n",
    "                    tf.keras.metrics.Recall(class_id = 0, name = 'TS_recall'),\n",
    "                    tf.keras.metrics.Precision(class_id = 1, name = 'HU_prec'),\n",
    "                    tf.keras.metrics.Recall(class_id = 1, name = 'HU_recall'),\n",
    "                    tf.keras.metrics.Precision(class_id = 2, name = 'MH_prec'),\n",
    "                    tf.keras.metrics.Recall(class_id = 2, name = 'MH_recall'),\n",
    "                ]\n",
    "            }\n",
    "\n",
    "classifier_model.compile(**compile_kwargs)"
   ]
  },
  {
   "cell_type": "code",
   "execution_count": 15,
   "metadata": {},
   "outputs": [],
   "source": [
    "# Set Callbacks\n",
    "lr_decay = LearningRateScheduler(\n",
    "    schedule=lambda epoch: CLASSIFIER_LEARNING_RATE * (CLASSIFIER_DECAY_RATE ** epoch)\n",
    ")\n",
    "log = CSVLogger(str(path_c_logs / \"log.csv\"))\n",
    "cp = ModelCheckpoint(\n",
    "    filepath=str(path_c_weights / \"weights-{epoch:02d}.h5\"),\n",
    "    save_best_only=False,\n",
    "    save_weights_only=True,\n",
    "    verbose=1\n",
    ")"
   ]
  },
  {
   "cell_type": "code",
   "execution_count": null,
   "metadata": {},
   "outputs": [],
   "source": [
    "# Load weight from file\n",
    "EVAL_EPOCH = '25'\n",
    "weights_path = path_c_weights / f'weights-{EVAL_EPOCH}.h5'\n",
    "classifier_model.load_weights(weights_path)\n",
    "\n",
    "# OR Train below"
   ]
  },
  {
   "cell_type": "code",
   "execution_count": 18,
   "metadata": {},
   "outputs": [
    {
     "name": "stdout",
     "output_type": "stream",
     "text": [
      "WARNING:tensorflow:From /jet/home/gvincent/.conda/envs/tf15/lib/python3.6/site-packages/keras/backend/tensorflow_backend.py:422: The name tf.global_variables is deprecated. Please use tf.compat.v1.global_variables instead.\n",
      "\n",
      "Epoch 1/25\n",
      "524/524 [==============================] - 48s 92ms/step - loss: 0.8601 - accuracy: 0.5960 - TS_prec: 0.5373 - TS_recall: 0.5865 - HU_prec: 0.3630 - HU_recall: 0.4387 - MH_prec: 0.5277 - MH_recall: 0.6446 - val_loss: 0.8183 - val_accuracy: 0.6309 - val_TS_prec: 0.6417 - val_TS_recall: 0.7049 - val_HU_prec: 0.3892 - val_HU_recall: 0.5211 - val_MH_prec: 0.6182 - val_MH_recall: 0.7282\n",
      "\n",
      "Epoch 00001: saving model to /jet/home/gvincent/encapZulate-1/src/results/CNNbaseline/2022-05-10/classification_step/weights/weights-01.h5\n",
      "Epoch 2/25\n",
      "524/524 [==============================] - 35s 66ms/step - loss: 0.6557 - accuracy: 0.7039 - TS_prec: 0.6594 - TS_recall: 0.7447 - HU_prec: 0.4008 - HU_recall: 0.5778 - MH_prec: 0.6484 - MH_recall: 0.7562 - val_loss: 0.7423 - val_accuracy: 0.6670 - val_TS_prec: 0.6706 - val_TS_recall: 0.7711 - val_HU_prec: 0.4084 - val_HU_recall: 0.6142 - val_MH_prec: 0.6722 - val_MH_recall: 0.7754\n",
      "\n",
      "Epoch 00002: saving model to /jet/home/gvincent/encapZulate-1/src/results/CNNbaseline/2022-05-10/classification_step/weights/weights-02.h5\n",
      "Epoch 3/25\n",
      "523/524 [============================>.] - ETA: 0s - loss: 0.5983 - accuracy: 0.7352 - TS_prec: 0.6758 - TS_recall: 0.7875 - HU_prec: 0.4136 - HU_recall: 0.6409 - MH_prec: 0.6870 - MH_recall: 0.7882Epoch 3/25\n",
      "524/524 [==============================] - 35s 67ms/step - loss: 0.5982 - accuracy: 0.7353 - TS_prec: 0.6758 - TS_recall: 0.7875 - HU_prec: 0.4136 - HU_recall: 0.6409 - MH_prec: 0.6870 - MH_recall: 0.7882 - val_loss: 0.7905 - val_accuracy: 0.6911 - val_TS_prec: 0.6793 - val_TS_recall: 0.8005 - val_HU_prec: 0.4180 - val_HU_recall: 0.6659 - val_MH_prec: 0.7002 - val_MH_recall: 0.7982\n",
      "\n",
      "Epoch 00003: saving model to /jet/home/gvincent/encapZulate-1/src/results/CNNbaseline/2022-05-10/classification_step/weights/weights-03.h5\n",
      "Epoch 4/25\n",
      "524/524 [==============================] - 35s 66ms/step - loss: 0.5617 - accuracy: 0.7539 - TS_prec: 0.6822 - TS_recall: 0.8101 - HU_prec: 0.4210 - HU_recall: 0.6840 - MH_prec: 0.7107 - MH_recall: 0.8051 - val_loss: 0.8151 - val_accuracy: 0.6955 - val_TS_prec: 0.6850 - val_TS_recall: 0.8178 - val_HU_prec: 0.4231 - val_HU_recall: 0.6997 - val_MH_prec: 0.7191 - val_MH_recall: 0.8122\n",
      "\n",
      "Epoch 00004: saving model to /jet/home/gvincent/encapZulate-1/src/results/CNNbaseline/2022-05-10/classification_step/weights/weights-04.h5\n",
      "Epoch 5/25\n",
      "524/524 [==============================] - 35s 66ms/step - loss: 0.5313 - accuracy: 0.7694 - TS_prec: 0.6872 - TS_recall: 0.8242 - HU_prec: 0.4247 - HU_recall: 0.7130 - MH_prec: 0.7263 - MH_recall: 0.8183 - val_loss: 0.6471 - val_accuracy: 0.7039 - val_TS_prec: 0.6896 - val_TS_recall: 0.8296 - val_HU_prec: 0.4258 - val_HU_recall: 0.7250 - val_MH_prec: 0.7326 - val_MH_recall: 0.8235\n",
      "\n",
      "Epoch 00005: saving model to /jet/home/gvincent/encapZulate-1/src/results/CNNbaseline/2022-05-10/classification_step/weights/weights-05.h5\n",
      "Epoch 5/25\n",
      "Epoch 6/25\n",
      "524/524 [==============================] - 34s 66ms/step - loss: 0.5023 - accuracy: 0.7845 - TS_prec: 0.6917 - TS_recall: 0.8343 - HU_prec: 0.4270 - HU_recall: 0.7353 - MH_prec: 0.7382 - MH_recall: 0.8285 - val_loss: 0.5832 - val_accuracy: 0.7007 - val_TS_prec: 0.6931 - val_TS_recall: 0.8389 - val_HU_prec: 0.4281 - val_HU_recall: 0.7450 - val_MH_prec: 0.7436 - val_MH_recall: 0.8331\n",
      "\n",
      "Epoch 00006: saving model to /jet/home/gvincent/encapZulate-1/src/results/CNNbaseline/2022-05-10/classification_step/weights/weights-06.h5\n",
      "Epoch 7/25\n",
      "524/524 [==============================] - 35s 66ms/step - loss: 0.4782 - accuracy: 0.7954 - TS_prec: 0.6944 - TS_recall: 0.8427 - HU_prec: 0.4295 - HU_recall: 0.7528 - MH_prec: 0.7487 - MH_recall: 0.8371 - val_loss: 0.8097 - val_accuracy: 0.6987 - val_TS_prec: 0.6959 - val_TS_recall: 0.8465 - val_HU_prec: 0.4307 - val_HU_recall: 0.7604 - val_MH_prec: 0.7531 - val_MH_recall: 0.8406\n",
      "Epoch 7/25\n",
      "\n",
      "Epoch 00007: saving model to /jet/home/gvincent/encapZulate-1/src/results/CNNbaseline/2022-05-10/classification_step/weights/weights-07.h5\n",
      "Epoch 8/25\n",
      "524/524 [==============================] - 34s 65ms/step - loss: 0.4576 - accuracy: 0.8062 - TS_prec: 0.6971 - TS_recall: 0.8498 - HU_prec: 0.4315 - HU_recall: 0.7672 - MH_prec: 0.7570 - MH_recall: 0.8439 - val_loss: 0.4770 - val_accuracy: 0.7082 - val_TS_prec: 0.6984 - val_TS_recall: 0.8528 - val_HU_prec: 0.4323 - val_HU_recall: 0.7736 - val_MH_prec: 0.7608 - val_MH_recall: 0.8473\n",
      "\n",
      "Epoch 00008: saving model to /jet/home/gvincent/encapZulate-1/src/results/CNNbaseline/2022-05-10/classification_step/weights/weights-08.h5\n",
      "Epoch 8/25\n",
      "Epoch 9/25\n",
      "524/524 [==============================] - 34s 65ms/step - loss: 0.4377 - accuracy: 0.8176 - TS_prec: 0.6997 - TS_recall: 0.8554 - HU_prec: 0.4333 - HU_recall: 0.7792 - MH_prec: 0.7642 - MH_recall: 0.8502 - val_loss: 0.6836 - val_accuracy: 0.7097 - val_TS_prec: 0.7009 - val_TS_recall: 0.8582 - val_HU_prec: 0.4339 - val_HU_recall: 0.7849 - val_MH_prec: 0.7676 - val_MH_recall: 0.8531\n",
      "\n",
      "Epoch 00009: saving model to /jet/home/gvincent/encapZulate-1/src/results/CNNbaseline/2022-05-10/classification_step/weights/weights-09.h5\n",
      "Epoch 10/25\n",
      "524/524 [==============================] - 36s 68ms/step - loss: 0.4167 - accuracy: 0.8267 - TS_prec: 0.7018 - TS_recall: 0.8607 - HU_prec: 0.4347 - HU_recall: 0.7904 - MH_prec: 0.7707 - MH_recall: 0.8559 - val_loss: 0.6705 - val_accuracy: 0.7153 - val_TS_prec: 0.7027 - val_TS_recall: 0.8632 - val_HU_prec: 0.4357 - val_HU_recall: 0.7956 - val_MH_prec: 0.7737 - val_MH_recall: 0.8586\n",
      "\n",
      "Epoch 00010: saving model to /jet/home/gvincent/encapZulate-1/src/results/CNNbaseline/2022-05-10/classification_step/weights/weights-10.h5\n",
      "Epoch 11/25\n",
      "524/524 [==============================] - 35s 67ms/step - loss: 0.3997 - accuracy: 0.8344 - TS_prec: 0.7034 - TS_recall: 0.8655 - HU_prec: 0.4365 - HU_recall: 0.8003 - MH_prec: 0.7766 - MH_recall: 0.8612 - val_loss: 0.7594 - val_accuracy: 0.7111 - val_TS_prec: 0.7039 - val_TS_recall: 0.8678 - val_HU_prec: 0.4374 - val_HU_recall: 0.8050 - val_MH_prec: 0.7794 - val_MH_recall: 0.8636\n",
      "\n",
      "Epoch 00011: saving model to /jet/home/gvincent/encapZulate-1/src/results/CNNbaseline/2022-05-10/classification_step/weights/weights-11.h5\n",
      "Epoch 12/25\n",
      "Epoch 11/25\n",
      "524/524 [==============================] - 36s 68ms/step - loss: 0.3811 - accuracy: 0.8443 - TS_prec: 0.7044 - TS_recall: 0.8700 - HU_prec: 0.4381 - HU_recall: 0.8095 - MH_prec: 0.7820 - MH_recall: 0.8660 - val_loss: 0.6351 - val_accuracy: 0.7129 - val_TS_prec: 0.7048 - val_TS_recall: 0.8721 - val_HU_prec: 0.4389 - val_HU_recall: 0.8138 - val_MH_prec: 0.7845 - val_MH_recall: 0.8685\n",
      "\n",
      "Epoch 00012: saving model to /jet/home/gvincent/encapZulate-1/src/results/CNNbaseline/2022-05-10/classification_step/weights/weights-12.h5\n",
      "Epoch 13/25\n",
      "524/524 [==============================] - 35s 67ms/step - loss: 0.3669 - accuracy: 0.8500 - TS_prec: 0.7053 - TS_recall: 0.8741 - HU_prec: 0.4396 - HU_recall: 0.8176 - MH_prec: 0.7868 - MH_recall: 0.8709 - val_loss: 0.7470 - val_accuracy: 0.7114 - val_TS_prec: 0.7055 - val_TS_recall: 0.8761 - val_HU_prec: 0.4404 - val_HU_recall: 0.8215 - val_MH_prec: 0.7893 - val_MH_recall: 0.8730\n",
      "\n",
      "Epoch 00013: saving model to /jet/home/gvincent/encapZulate-1/src/results/CNNbaseline/2022-05-10/classification_step/weights/weights-13.h5\n",
      "Epoch 13/25\n",
      "Epoch 14/25\n",
      "524/524 [==============================] - 34s 65ms/step - loss: 0.3510 - accuracy: 0.8586 - TS_prec: 0.7057 - TS_recall: 0.8780 - HU_prec: 0.4412 - HU_recall: 0.8252 - MH_prec: 0.7916 - MH_recall: 0.8750 - val_loss: 0.6082 - val_accuracy: 0.7189 - val_TS_prec: 0.7060 - val_TS_recall: 0.8798 - val_HU_prec: 0.4419 - val_HU_recall: 0.8286 - val_MH_prec: 0.7936 - val_MH_recall: 0.8771\n",
      "\n",
      "Epoch 00014: saving model to /jet/home/gvincent/encapZulate-1/src/results/CNNbaseline/2022-05-10/classification_step/weights/weights-14.h5\n",
      "Epoch 15/25\n",
      "524/524 [==============================] - 36s 68ms/step - loss: 0.3343 - accuracy: 0.8650 - TS_prec: 0.7063 - TS_recall: 0.8815 - HU_prec: 0.4427 - HU_recall: 0.8320 - MH_prec: 0.7956 - MH_recall: 0.8792 - val_loss: 0.9453 - val_accuracy: 0.7107 - val_TS_prec: 0.7065 - val_TS_recall: 0.8833 - val_HU_prec: 0.4435 - val_HU_recall: 0.8352 - val_MH_prec: 0.7976 - val_MH_recall: 0.8810\n",
      "\n",
      "Epoch 00015: saving model to /jet/home/gvincent/encapZulate-1/src/results/CNNbaseline/2022-05-10/classification_step/weights/weights-15.h5\n",
      "Epoch 15/25\n",
      "Epoch 16/25\n",
      "524/524 [==============================] - 35s 66ms/step - loss: 0.3190 - accuracy: 0.8732 - TS_prec: 0.7066 - TS_recall: 0.8850 - HU_prec: 0.4443 - HU_recall: 0.8383 - MH_prec: 0.7996 - MH_recall: 0.8829 - val_loss: 0.8032 - val_accuracy: 0.7087 - val_TS_prec: 0.7068 - val_TS_recall: 0.8866 - val_HU_prec: 0.4452 - val_HU_recall: 0.8413 - val_MH_prec: 0.8017 - val_MH_recall: 0.8846\n",
      "\n",
      "Epoch 00016: saving model to /jet/home/gvincent/encapZulate-1/src/results/CNNbaseline/2022-05-10/classification_step/weights/weights-16.h5\n",
      "Epoch 16/25\n",
      "Epoch 17/25\n",
      "524/524 [==============================] - 36s 68ms/step - loss: 0.3049 - accuracy: 0.8783 - TS_prec: 0.7069 - TS_recall: 0.8882 - HU_prec: 0.4461 - HU_recall: 0.8442 - MH_prec: 0.8037 - MH_recall: 0.8863 - val_loss: 0.7848 - val_accuracy: 0.7058 - val_TS_prec: 0.7070 - val_TS_recall: 0.8897 - val_HU_prec: 0.4469 - val_HU_recall: 0.8469 - val_MH_prec: 0.8056 - val_MH_recall: 0.8879\n",
      "\n",
      "Epoch 00017: saving model to /jet/home/gvincent/encapZulate-1/src/results/CNNbaseline/2022-05-10/classification_step/weights/weights-17.h5\n",
      "Epoch 17/25\n",
      "Epoch 18/25\n",
      "524/524 [==============================] - 35s 66ms/step - loss: 0.2943 - accuracy: 0.8831 - TS_prec: 0.7072 - TS_recall: 0.8912 - HU_prec: 0.4479 - HU_recall: 0.8496 - MH_prec: 0.8074 - MH_recall: 0.8895 - val_loss: 0.7257 - val_accuracy: 0.7163 - val_TS_prec: 0.7074 - val_TS_recall: 0.8926 - val_HU_prec: 0.4488 - val_HU_recall: 0.8521 - val_MH_prec: 0.8092 - val_MH_recall: 0.8912\n",
      "\n",
      "Epoch 00018: saving model to /jet/home/gvincent/encapZulate-1/src/results/CNNbaseline/2022-05-10/classification_step/weights/weights-18.h5\n",
      "Epoch 19/25\n",
      "524/524 [==============================] - 35s 66ms/step - loss: 0.2807 - accuracy: 0.8894 - TS_prec: 0.7075 - TS_recall: 0.8939 - HU_prec: 0.4497 - HU_recall: 0.8545 - MH_prec: 0.8108 - MH_recall: 0.8928 - val_loss: 0.8386 - val_accuracy: 0.7143 - val_TS_prec: 0.7075 - val_TS_recall: 0.8954 - val_HU_prec: 0.4507 - val_HU_recall: 0.8568 - val_MH_prec: 0.8125 - val_MH_recall: 0.8942\n",
      "\n",
      "Epoch 00019: saving model to /jet/home/gvincent/encapZulate-1/src/results/CNNbaseline/2022-05-10/classification_step/weights/weights-19.h5\n",
      "Epoch 20/25\n",
      "524/524 [==============================] - 34s 65ms/step - loss: 0.2692 - accuracy: 0.8959 - TS_prec: 0.7075 - TS_recall: 0.8967 - HU_prec: 0.4517 - HU_recall: 0.8590 - MH_prec: 0.8142 - MH_recall: 0.8956 - val_loss: 0.7309 - val_accuracy: 0.7119 - val_TS_prec: 0.7075 - val_TS_recall: 0.8980 - val_HU_prec: 0.4526 - val_HU_recall: 0.8613 - val_MH_prec: 0.8159 - val_MH_recall: 0.8969\n",
      "\n",
      "Epoch 00020: saving model to /jet/home/gvincent/encapZulate-1/src/results/CNNbaseline/2022-05-10/classification_step/weights/weights-20.h5\n",
      "Epoch 21/25\n",
      "524/524 [==============================] - 36s 69ms/step - loss: 0.2583 - accuracy: 0.8990 - TS_prec: 0.7077 - TS_recall: 0.8993 - HU_prec: 0.4536 - HU_recall: 0.8633 - MH_prec: 0.8175 - MH_recall: 0.8981 - val_loss: 1.0434 - val_accuracy: 0.7163 - val_TS_prec: 0.7077 - val_TS_recall: 0.9005 - val_HU_prec: 0.4546 - val_HU_recall: 0.8652 - val_MH_prec: 0.8191 - val_MH_recall: 0.8994\n",
      "\n",
      "Epoch 00021: saving model to /jet/home/gvincent/encapZulate-1/src/results/CNNbaseline/2022-05-10/classification_step/weights/weights-21.h5\n",
      "  1/524 [..............................] - ETA: 9:43 - loss: 0.2735 - accuracy: 0.8850 - TS_prec: 0.7072 - TS_recall: 0.8982 - HU_prec: 0.4525 - HU_recall: 0.8613 - MH_prec: 0.8160 - MH_recall: 0.8965Epoch 22/25\n",
      "524/524 [==============================] - 35s 67ms/step - loss: 0.2492 - accuracy: 0.9028 - TS_prec: 0.7076 - TS_recall: 0.9017 - HU_prec: 0.4556 - HU_recall: 0.8670 - MH_prec: 0.8206 - MH_recall: 0.9006 - val_loss: 0.7491 - val_accuracy: 0.7095 - val_TS_prec: 0.7077 - val_TS_recall: 0.9029 - val_HU_prec: 0.4566 - val_HU_recall: 0.8690 - val_MH_prec: 0.8221 - val_MH_recall: 0.9018\n",
      "\n",
      "Epoch 00022: saving model to /jet/home/gvincent/encapZulate-1/src/results/CNNbaseline/2022-05-10/classification_step/weights/weights-22.h5\n",
      "Epoch 22/25\n",
      "Epoch 23/25\n",
      "524/524 [==============================] - 34s 64ms/step - loss: 0.2378 - accuracy: 0.9081 - TS_prec: 0.7078 - TS_recall: 0.9041 - HU_prec: 0.4576 - HU_recall: 0.8708 - MH_prec: 0.8236 - MH_recall: 0.9029 - val_loss: 0.8766 - val_accuracy: 0.7071 - val_TS_prec: 0.7078 - val_TS_recall: 0.9052 - val_HU_prec: 0.4586 - val_HU_recall: 0.8726 - val_MH_prec: 0.8251 - val_MH_recall: 0.9040\n",
      "\n",
      "Epoch 00023: saving model to /jet/home/gvincent/encapZulate-1/src/results/CNNbaseline/2022-05-10/classification_step/weights/weights-23.h5\n",
      "Epoch 24/25\n",
      "524/524 [==============================] - 34s 66ms/step - loss: 0.2277 - accuracy: 0.9119 - TS_prec: 0.7078 - TS_recall: 0.9063 - HU_prec: 0.4596 - HU_recall: 0.8743 - MH_prec: 0.8266 - MH_recall: 0.9050 - val_loss: 0.8239 - val_accuracy: 0.7092 - val_TS_prec: 0.7078 - val_TS_recall: 0.9074 - val_HU_prec: 0.4605 - val_HU_recall: 0.8760 - val_MH_prec: 0.8280 - val_MH_recall: 0.9060\n",
      "Epoch 24/25\n",
      "\n",
      "Epoch 00024: saving model to /jet/home/gvincent/encapZulate-1/src/results/CNNbaseline/2022-05-10/classification_step/weights/weights-24.h5\n",
      "Epoch 25/25\n",
      "524/524 [==============================] - 34s 64ms/step - loss: 0.2194 - accuracy: 0.9154 - TS_prec: 0.7078 - TS_recall: 0.9084 - HU_prec: 0.4615 - HU_recall: 0.8776 - MH_prec: 0.8294 - MH_recall: 0.9070 - val_loss: 1.1079 - val_accuracy: 0.7085 - val_TS_prec: 0.7078 - val_TS_recall: 0.9095 - val_HU_prec: 0.4625 - val_HU_recall: 0.8792 - val_MH_prec: 0.8308 - val_MH_recall: 0.9079\n",
      "\n",
      "Epoch 00025: saving model to /jet/home/gvincent/encapZulate-1/src/results/CNNbaseline/2022-05-10/classification_step/weights/weights-25.h5\n",
      "Epoch 25/25\n"
     ]
    },
    {
     "data": {
      "text/plain": [
       "<keras.callbacks.callbacks.History at 0x148c7766b240>"
      ]
     },
     "execution_count": 18,
     "metadata": {},
     "output_type": "execute_result"
    }
   ],
   "source": [
    "# Oversampling to weight classes\n",
    "\n",
    "training_generator = DataGenerator(x_train, y_train, config[\"batch_size\"], class_weights = [1.0, 1.0, 1.0], capsnet = False)\n",
    "validation_generator = DataGenerator(x_dev, y_dev, config[\"batch_size\"], class_weights = [1.0, 1.0, 1.0], capsnet = False)\n",
    "\n",
    "classifier_model.fit_generator(\n",
    "    generator=training_generator,\n",
    "    validation_data=validation_generator,\n",
    "    epochs=CLASSIFIER_EPOCHS,\n",
    "    initial_epoch=0,\n",
    "    callbacks=[log, cp, lr_decay],\n",
    "    use_multiprocessing=True,\n",
    "    workers=20,\n",
    ")"
   ]
  },
  {
   "cell_type": "markdown",
   "metadata": {},
   "source": [
    "# Fit RMW Regression Models"
   ]
  },
  {
   "cell_type": "code",
   "execution_count": 19,
   "metadata": {},
   "outputs": [
    {
     "name": "stdout",
     "output_type": "stream",
     "text": [
      "Training (2000 - 2016): (1558, 200, 200, 1)\n",
      "\n",
      "Validation (2017 - 2018): (214, 200, 200, 1)\n",
      "\n",
      "Testing (2019 - 2020): (113, 200, 200, 1)\n",
      "\n",
      "Total: 1885\n"
     ]
    }
   ],
   "source": [
    "# Load RMW data near ATCF observations\n",
    "((x_train_2, y_train_2, rmw_train_2, ebt_train_2, aux_train_2),\n",
    " (x_dev_2, y_dev_2, rmw_dev_2, ebt_dev_2, aux_dev_2),\n",
    " (x_test_2, y_test_2, rmw_test_2, ebt_test_2, aux_test_2)) = load_RMW(**config)\n",
    "\n",
    "max_year_train = config['max_year_train']\n",
    "max_year_dev = config['max_year_dev']\n",
    "print(f'Training (2000 - {max_year_train}): {x_train_2.shape}\\n')\n",
    "print(f'Validation ({max_year_train + 1} - {max_year_dev}): {x_dev_2.shape}\\n')\n",
    "print(f'Testing ({max_year_dev + 1} - 2020): {x_test_2.shape}\\n')\n",
    "print(f'Total: {x_train_2.shape[0] + x_dev_2.shape[0] + x_test_2.shape[0]}')"
   ]
  },
  {
   "cell_type": "code",
   "execution_count": 20,
   "metadata": {},
   "outputs": [],
   "source": [
    "# Freeze CNN filter weights\n",
    "filter_model.trainable = False"
   ]
  },
  {
   "cell_type": "code",
   "execution_count": 21,
   "metadata": {},
   "outputs": [],
   "source": [
    "def rmse(y_true, y_pred):\n",
    "    return K.sqrt(K.mean(K.pow(y_true - y_pred, 2)))"
   ]
  },
  {
   "cell_type": "markdown",
   "metadata": {},
   "source": [
    "### GOES Only"
   ]
  },
  {
   "cell_type": "code",
   "execution_count": 22,
   "metadata": {},
   "outputs": [],
   "source": [
    "# Define RMW regression model as a function of the frozen filters \n",
    "def RMW_Model(input_shape, filter_model, dropout_frac, verbose=False):\n",
    "    x1 = Input(shape=input_shape)\n",
    "    l = x1\n",
    "    \n",
    "    l = filter_model(l)\n",
    "    l = BatchNormalization()(l)\n",
    "    \n",
    "    l = Flatten()(l)\n",
    "    \n",
    "    l = Dense(\n",
    "        275,\n",
    "        kernel_initializer=\"he_normal\",\n",
    "    )(l)\n",
    "    l = PReLU()(l)\n",
    "    l = Dropout(dropout_frac)(l)\n",
    "    \n",
    "    l = Dense(\n",
    "        275,\n",
    "        kernel_initializer=\"he_normal\",\n",
    "    )(l)\n",
    "    l = PReLU()(l)\n",
    "    l = Dropout(dropout_frac)(l)\n",
    "\n",
    "    l = Dense(\n",
    "        1,\n",
    "        kernel_initializer=\"he_normal\"\n",
    "    )(l)\n",
    "    \n",
    "    model_to_return = models.Model(x1, l, name = 'rmw_model')\n",
    "    \n",
    "    if verbose:\n",
    "        print(model_to_return.summary())\n",
    "\n",
    "    return model_to_return\n",
    "    "
   ]
  },
  {
   "cell_type": "code",
   "execution_count": 23,
   "metadata": {},
   "outputs": [
    {
     "name": "stdout",
     "output_type": "stream",
     "text": [
      "Model: \"rmw_model\"\n",
      "_________________________________________________________________\n",
      "Layer (type)                 Output Shape              Param #   \n",
      "=================================================================\n",
      "input_4 (InputLayer)         (None, 200, 200, 1)       0         \n",
      "_________________________________________________________________\n",
      "filters (Model)              (None, 14, 14, 20)        75915     \n",
      "_________________________________________________________________\n",
      "batch_normalization_1 (Batch (None, 14, 14, 20)        80        \n",
      "_________________________________________________________________\n",
      "flatten_4 (Flatten)          (None, 3920)              0         \n",
      "_________________________________________________________________\n",
      "dense_10 (Dense)             (None, 275)               1078275   \n",
      "_________________________________________________________________\n",
      "p_re_lu_25 (PReLU)           (None, 275)               275       \n",
      "_________________________________________________________________\n",
      "dropout_7 (Dropout)          (None, 275)               0         \n",
      "_________________________________________________________________\n",
      "dense_11 (Dense)             (None, 275)               75900     \n",
      "_________________________________________________________________\n",
      "p_re_lu_26 (PReLU)           (None, 275)               275       \n",
      "_________________________________________________________________\n",
      "dropout_8 (Dropout)          (None, 275)               0         \n",
      "_________________________________________________________________\n",
      "dense_12 (Dense)             (None, 1)                 276       \n",
      "=================================================================\n",
      "Total params: 1,230,996\n",
      "Trainable params: 1,155,041\n",
      "Non-trainable params: 75,955\n",
      "_________________________________________________________________\n",
      "None\n"
     ]
    }
   ],
   "source": [
    "rmw_model = RMW_Model(config['input_shape'], filter_model, 0.5, verbose = True)\n",
    "parallel_model = MultiGPUModel(rmw_model, gpus=config['num_gpus'])\n",
    "rmw_model = parallel_model"
   ]
  },
  {
   "cell_type": "code",
   "execution_count": 37,
   "metadata": {},
   "outputs": [],
   "source": [
    "# Compile model\n",
    "REGRESSION_LEARNING_RATE = 1e-4\n",
    "REGRESSION_DECAY_RATE = 0.95\n",
    "REGRESSION_EPOCHS = 100\n",
    "\n",
    "compile_kwargs_rmw = {\n",
    "                \"optimizer\": optimizers.Adam(lr=REGRESSION_LEARNING_RATE),\n",
    "                \"loss\": tf.keras.losses.MeanSquaredError(name = 'mse'),\n",
    "                \"metrics\": [rmse]\n",
    "            }\n",
    "\n",
    "rmw_model.compile(**compile_kwargs_rmw)"
   ]
  },
  {
   "cell_type": "code",
   "execution_count": 25,
   "metadata": {},
   "outputs": [],
   "source": [
    "# Set Callbacks\n",
    "lr_decay_reg = LearningRateScheduler(\n",
    "    schedule=lambda epoch: REGRESSION_LEARNING_RATE * (REGRESSION_DECAY_RATE ** epoch)\n",
    ")\n",
    "log_reg = CSVLogger(str(path_r_logs / \"log.csv\"))\n",
    "cp_reg = ModelCheckpoint(\n",
    "    filepath=str(path_r_weights / \"weights-{epoch:02d}.h5\"),\n",
    "    save_best_only=True,\n",
    "    monitor = 'val_loss',\n",
    "    mode = 'min',\n",
    "    save_weights_only=True,\n",
    "    verbose=1\n",
    ")"
   ]
  },
  {
   "cell_type": "code",
   "execution_count": 38,
   "metadata": {},
   "outputs": [],
   "source": [
    "# Load weight from file\n",
    "EVAL_EPOCH = '100'\n",
    "weights_path = path_r_weights / f'weights-{EVAL_EPOCH}.h5'\n",
    "rmw_model.load_weights(weights_path)\n",
    "\n",
    "# OR Train below"
   ]
  },
  {
   "cell_type": "code",
   "execution_count": null,
   "metadata": {},
   "outputs": [],
   "source": [
    "# Fit model\n",
    "rmw_model.fit(\n",
    "    x_train_2, \n",
    "    rmw_train_2,\n",
    "    batch_size=200, \n",
    "    epochs=REGRESSION_EPOCHS,\n",
    "    initial_epoch=0,\n",
    "    validation_data=[x_dev_2, rmw_dev_2],\n",
    "    callbacks=[log_reg, cp_reg, lr_decay_reg],\n",
    ")"
   ]
  },
  {
   "cell_type": "markdown",
   "metadata": {},
   "source": [
    "### GOES + EBT"
   ]
  },
  {
   "cell_type": "code",
   "execution_count": 32,
   "metadata": {},
   "outputs": [],
   "source": [
    "# Define RMW regression model as a function of the frozen filters \n",
    "def RMW_Model_EBT(input_shape, filter_model, dropout_frac, verbose=False):\n",
    "    \n",
    "    x1 = Input(shape=input_shape)\n",
    "    l = x1\n",
    "    \n",
    "    l = filter_model(l)\n",
    "    l = BatchNormalization()(l)\n",
    "    \n",
    "    x2 = Input(shape=(5,))\n",
    "    \n",
    "    l = Flatten()(l)\n",
    "    l = Concatenate()([l, x2])\n",
    "    \n",
    "    l = Dense(\n",
    "        275,\n",
    "        kernel_initializer=\"he_normal\",\n",
    "    )(l)\n",
    "    l = PReLU()(l)\n",
    "    l = Dropout(dropout_frac)(l)\n",
    "    \n",
    "    l = Dense(\n",
    "        275,\n",
    "        kernel_initializer=\"he_normal\",\n",
    "    )(l)\n",
    "    l = PReLU()(l)\n",
    "    l = Dropout(dropout_frac)(l)\n",
    "\n",
    "    l = Dense(\n",
    "        1,\n",
    "        kernel_initializer=\"he_normal\"\n",
    "    )(l)\n",
    "    \n",
    "    model_to_return = models.Model([x1, x2], l, name = 'rmw_ebt_model')\n",
    "    \n",
    "    if verbose:\n",
    "        print(model_to_return.summary())\n",
    "\n",
    "    return model_to_return\n",
    "    "
   ]
  },
  {
   "cell_type": "code",
   "execution_count": 56,
   "metadata": {},
   "outputs": [
    {
     "name": "stdout",
     "output_type": "stream",
     "text": [
      "Model: \"rmw_ebt_model\"\n",
      "__________________________________________________________________________________________________\n",
      "Layer (type)                    Output Shape         Param #     Connected to                     \n",
      "==================================================================================================\n",
      "input_11 (InputLayer)           (None, 200, 200, 1)  0                                            \n",
      "__________________________________________________________________________________________________\n",
      "filters (Model)                 (None, 14, 14, 20)   75915       input_11[0][0]                   \n",
      "__________________________________________________________________________________________________\n",
      "batch_normalization_5 (BatchNor (None, 14, 14, 20)   80          filters[5][0]                    \n",
      "__________________________________________________________________________________________________\n",
      "flatten_8 (Flatten)             (None, 3920)         0           batch_normalization_5[0][0]      \n",
      "__________________________________________________________________________________________________\n",
      "input_12 (InputLayer)           (None, 5)            0                                            \n",
      "__________________________________________________________________________________________________\n",
      "concatenate_4 (Concatenate)     (None, 3925)         0           flatten_8[0][0]                  \n",
      "                                                                 input_12[0][0]                   \n",
      "__________________________________________________________________________________________________\n",
      "dense_22 (Dense)                (None, 275)          1079650     concatenate_4[0][0]              \n",
      "__________________________________________________________________________________________________\n",
      "p_re_lu_33 (PReLU)              (None, 275)          275         dense_22[0][0]                   \n",
      "__________________________________________________________________________________________________\n",
      "dropout_15 (Dropout)            (None, 275)          0           p_re_lu_33[0][0]                 \n",
      "__________________________________________________________________________________________________\n",
      "dense_23 (Dense)                (None, 275)          75900       dropout_15[0][0]                 \n",
      "__________________________________________________________________________________________________\n",
      "p_re_lu_34 (PReLU)              (None, 275)          275         dense_23[0][0]                   \n",
      "__________________________________________________________________________________________________\n",
      "dropout_16 (Dropout)            (None, 275)          0           p_re_lu_34[0][0]                 \n",
      "__________________________________________________________________________________________________\n",
      "dense_24 (Dense)                (None, 1)            276         dropout_16[0][0]                 \n",
      "==================================================================================================\n",
      "Total params: 1,232,371\n",
      "Trainable params: 1,232,331\n",
      "Non-trainable params: 40\n",
      "__________________________________________________________________________________________________\n",
      "None\n"
     ]
    }
   ],
   "source": [
    "rmw_model_ebt = RMW_Model_EBT(config['input_shape'], filter_model, 0.5, verbose = True)\n",
    "parallel_model = MultiGPUModel(rmw_model_ebt, gpus=config['num_gpus'])\n",
    "rmw_model_ebt = parallel_model"
   ]
  },
  {
   "cell_type": "code",
   "execution_count": 58,
   "metadata": {},
   "outputs": [],
   "source": [
    "# Compile model\n",
    "REGRESSION_EBT_LEARNING_RATE = 1e-5\n",
    "REGRESSION_EBT_DECAY_RATE = 0.97\n",
    "REGRESSION_EBT_EPOCHS = 200\n",
    "\n",
    "\n",
    "compile_kwargs_rmw_ebt = {\n",
    "                \"optimizer\": optimizers.Adam(lr=REGRESSION_EBT_LEARNING_RATE),\n",
    "                \"loss\": tf.keras.losses.MeanSquaredError(name = 'mse'),\n",
    "                \"metrics\": [rmse]\n",
    "            }\n",
    "\n",
    "rmw_model_ebt.compile(**compile_kwargs_rmw_ebt)"
   ]
  },
  {
   "cell_type": "code",
   "execution_count": 59,
   "metadata": {},
   "outputs": [],
   "source": [
    "# Set Callbacks\n",
    "lr_decay_reg_ebt = LearningRateScheduler(\n",
    "    schedule=lambda epoch: REGRESSION_EBT_LEARNING_RATE * (REGRESSION_EBT_DECAY_RATE ** epoch)\n",
    ")\n",
    "log_reg_ebt = CSVLogger(str(path_r_ebt_logs / \"log.csv\"))\n",
    "cp_reg_ebt = ModelCheckpoint(\n",
    "    filepath=str(path_r_ebt_weights / \"weights-{epoch:02d}.h5\"),\n",
    "    save_best_only=True,\n",
    "    monitor = 'val_loss',\n",
    "    mode = 'min',\n",
    "    save_weights_only=True,\n",
    "    verbose=1\n",
    ")"
   ]
  },
  {
   "cell_type": "code",
   "execution_count": 60,
   "metadata": {},
   "outputs": [
    {
     "name": "stdout",
     "output_type": "stream",
     "text": [
      "Train on 1558 samples, validate on 214 samples\n",
      "Epoch 1/200\n",
      "1558/1558 [==============================] - 5s 3ms/step - loss: 4874.8911 - rmse: 69.8712 - val_loss: 4709.9331 - val_rmse: 69.5930\n",
      "\n",
      "Epoch 00001: val_loss improved from inf to 4709.93311, saving model to /jet/home/gvincent/encapZulate-1/src/results/CNNbaseline/2022-05-10/regression_step/goes_and_ebt/weights/weights-01.h5\n",
      "Epoch 2/200\n",
      "1558/1558 [==============================] - 1s 326us/step - loss: 4796.9524 - rmse: 69.1075 - val_loss: 4682.7715 - val_rmse: 69.3181\n",
      "\n",
      "Epoch 00002: val_loss improved from 4709.93311 to 4682.77153, saving model to /jet/home/gvincent/encapZulate-1/src/results/CNNbaseline/2022-05-10/regression_step/goes_and_ebt/weights/weights-02.h5\n",
      "Epoch 3/200\n",
      "1558/1558 [==============================] - 1s 328us/step - loss: 4761.4745 - rmse: 68.9613 - val_loss: 4636.0176 - val_rmse: 68.8615\n",
      "\n",
      "Epoch 00003: val_loss improved from 4682.77153 to 4636.01761, saving model to /jet/home/gvincent/encapZulate-1/src/results/CNNbaseline/2022-05-10/regression_step/goes_and_ebt/weights/weights-03.h5\n",
      "Epoch 4/200\n",
      "1558/1558 [==============================] - 1s 322us/step - loss: 4683.1607 - rmse: 68.0558 - val_loss: 4574.1182 - val_rmse: 68.2519\n",
      "\n",
      "Epoch 00004: val_loss improved from 4636.01761 to 4574.11824, saving model to /jet/home/gvincent/encapZulate-1/src/results/CNNbaseline/2022-05-10/regression_step/goes_and_ebt/weights/weights-04.h5\n",
      "Epoch 5/200\n",
      "1558/1558 [==============================] - 1s 331us/step - loss: 4615.8594 - rmse: 67.6221 - val_loss: 4507.4522 - val_rmse: 67.6203\n",
      "\n",
      "Epoch 00005: val_loss improved from 4574.11824 to 4507.45222, saving model to /jet/home/gvincent/encapZulate-1/src/results/CNNbaseline/2022-05-10/regression_step/goes_and_ebt/weights/weights-05.h5\n",
      "Epoch 6/200\n",
      "1558/1558 [==============================] - 1s 335us/step - loss: 4543.6625 - rmse: 67.3654 - val_loss: 4433.4437 - val_rmse: 66.9053\n",
      "\n",
      "Epoch 00006: val_loss improved from 4507.45222 to 4433.44375, saving model to /jet/home/gvincent/encapZulate-1/src/results/CNNbaseline/2022-05-10/regression_step/goes_and_ebt/weights/weights-06.h5\n",
      "Epoch 7/200\n",
      " 400/1558 [======>.......................] - ETA: 0s - loss: 4771.2026 - rmse: 69.0737"
     ]
    },
    {
     "ename": "KeyboardInterrupt",
     "evalue": "",
     "output_type": "error",
     "traceback": [
      "\u001b[0;31m---------------------------------------------------------------------------\u001b[0m",
      "\u001b[0;31mKeyboardInterrupt\u001b[0m                         Traceback (most recent call last)",
      "\u001b[0;32m<ipython-input-60-189359d26bb0>\u001b[0m in \u001b[0;36m<module>\u001b[0;34m\u001b[0m\n\u001b[1;32m      7\u001b[0m     \u001b[0minitial_epoch\u001b[0m\u001b[0;34m=\u001b[0m\u001b[0;36m0\u001b[0m\u001b[0;34m,\u001b[0m\u001b[0;34m\u001b[0m\u001b[0;34m\u001b[0m\u001b[0m\n\u001b[1;32m      8\u001b[0m     \u001b[0mvalidation_data\u001b[0m\u001b[0;34m=\u001b[0m\u001b[0;34m[\u001b[0m\u001b[0;34m[\u001b[0m\u001b[0mx_dev_2\u001b[0m\u001b[0;34m,\u001b[0m \u001b[0mebt_dev_2\u001b[0m\u001b[0;34m]\u001b[0m\u001b[0;34m,\u001b[0m \u001b[0mrmw_dev_2\u001b[0m\u001b[0;34m]\u001b[0m\u001b[0;34m,\u001b[0m\u001b[0;34m\u001b[0m\u001b[0;34m\u001b[0m\u001b[0m\n\u001b[0;32m----> 9\u001b[0;31m     \u001b[0mcallbacks\u001b[0m\u001b[0;34m=\u001b[0m\u001b[0;34m[\u001b[0m\u001b[0mlog_reg_ebt\u001b[0m\u001b[0;34m,\u001b[0m \u001b[0mcp_reg_ebt\u001b[0m\u001b[0;34m,\u001b[0m \u001b[0mlr_decay_reg_ebt\u001b[0m\u001b[0;34m]\u001b[0m\u001b[0;34m,\u001b[0m\u001b[0;34m\u001b[0m\u001b[0;34m\u001b[0m\u001b[0m\n\u001b[0m\u001b[1;32m     10\u001b[0m )\n",
      "\u001b[0;32m~/.conda/envs/tf15/lib/python3.6/site-packages/keras/engine/training.py\u001b[0m in \u001b[0;36mfit\u001b[0;34m(self, x, y, batch_size, epochs, verbose, callbacks, validation_split, validation_data, shuffle, class_weight, sample_weight, initial_epoch, steps_per_epoch, validation_steps, validation_freq, max_queue_size, workers, use_multiprocessing, **kwargs)\u001b[0m\n\u001b[1;32m   1237\u001b[0m                                         \u001b[0msteps_per_epoch\u001b[0m\u001b[0;34m=\u001b[0m\u001b[0msteps_per_epoch\u001b[0m\u001b[0;34m,\u001b[0m\u001b[0;34m\u001b[0m\u001b[0;34m\u001b[0m\u001b[0m\n\u001b[1;32m   1238\u001b[0m                                         \u001b[0mvalidation_steps\u001b[0m\u001b[0;34m=\u001b[0m\u001b[0mvalidation_steps\u001b[0m\u001b[0;34m,\u001b[0m\u001b[0;34m\u001b[0m\u001b[0;34m\u001b[0m\u001b[0m\n\u001b[0;32m-> 1239\u001b[0;31m                                         validation_freq=validation_freq)\n\u001b[0m\u001b[1;32m   1240\u001b[0m \u001b[0;34m\u001b[0m\u001b[0m\n\u001b[1;32m   1241\u001b[0m     def evaluate(self,\n",
      "\u001b[0;32m~/.conda/envs/tf15/lib/python3.6/site-packages/keras/engine/training_arrays.py\u001b[0m in \u001b[0;36mfit_loop\u001b[0;34m(model, fit_function, fit_inputs, out_labels, batch_size, epochs, verbose, callbacks, val_function, val_inputs, shuffle, initial_epoch, steps_per_epoch, validation_steps, validation_freq)\u001b[0m\n\u001b[1;32m    194\u001b[0m                     \u001b[0mins_batch\u001b[0m\u001b[0;34m[\u001b[0m\u001b[0mi\u001b[0m\u001b[0;34m]\u001b[0m \u001b[0;34m=\u001b[0m \u001b[0mins_batch\u001b[0m\u001b[0;34m[\u001b[0m\u001b[0mi\u001b[0m\u001b[0;34m]\u001b[0m\u001b[0;34m.\u001b[0m\u001b[0mtoarray\u001b[0m\u001b[0;34m(\u001b[0m\u001b[0;34m)\u001b[0m\u001b[0;34m\u001b[0m\u001b[0;34m\u001b[0m\u001b[0m\n\u001b[1;32m    195\u001b[0m \u001b[0;34m\u001b[0m\u001b[0m\n\u001b[0;32m--> 196\u001b[0;31m                 \u001b[0mouts\u001b[0m \u001b[0;34m=\u001b[0m \u001b[0mfit_function\u001b[0m\u001b[0;34m(\u001b[0m\u001b[0mins_batch\u001b[0m\u001b[0;34m)\u001b[0m\u001b[0;34m\u001b[0m\u001b[0;34m\u001b[0m\u001b[0m\n\u001b[0m\u001b[1;32m    197\u001b[0m                 \u001b[0mouts\u001b[0m \u001b[0;34m=\u001b[0m \u001b[0mto_list\u001b[0m\u001b[0;34m(\u001b[0m\u001b[0mouts\u001b[0m\u001b[0;34m)\u001b[0m\u001b[0;34m\u001b[0m\u001b[0;34m\u001b[0m\u001b[0m\n\u001b[1;32m    198\u001b[0m                 \u001b[0;32mfor\u001b[0m \u001b[0ml\u001b[0m\u001b[0;34m,\u001b[0m \u001b[0mo\u001b[0m \u001b[0;32min\u001b[0m \u001b[0mzip\u001b[0m\u001b[0;34m(\u001b[0m\u001b[0mout_labels\u001b[0m\u001b[0;34m,\u001b[0m \u001b[0mouts\u001b[0m\u001b[0;34m)\u001b[0m\u001b[0;34m:\u001b[0m\u001b[0;34m\u001b[0m\u001b[0;34m\u001b[0m\u001b[0m\n",
      "\u001b[0;32m~/.conda/envs/tf15/lib/python3.6/site-packages/tensorflow_core/python/keras/backend.py\u001b[0m in \u001b[0;36m__call__\u001b[0;34m(self, inputs)\u001b[0m\n\u001b[1;32m   3474\u001b[0m \u001b[0;34m\u001b[0m\u001b[0m\n\u001b[1;32m   3475\u001b[0m     fetched = self._callable_fn(*array_vals,\n\u001b[0;32m-> 3476\u001b[0;31m                                 run_metadata=self.run_metadata)\n\u001b[0m\u001b[1;32m   3477\u001b[0m     \u001b[0mself\u001b[0m\u001b[0;34m.\u001b[0m\u001b[0m_call_fetch_callbacks\u001b[0m\u001b[0;34m(\u001b[0m\u001b[0mfetched\u001b[0m\u001b[0;34m[\u001b[0m\u001b[0;34m-\u001b[0m\u001b[0mlen\u001b[0m\u001b[0;34m(\u001b[0m\u001b[0mself\u001b[0m\u001b[0;34m.\u001b[0m\u001b[0m_fetches\u001b[0m\u001b[0;34m)\u001b[0m\u001b[0;34m:\u001b[0m\u001b[0;34m]\u001b[0m\u001b[0;34m)\u001b[0m\u001b[0;34m\u001b[0m\u001b[0;34m\u001b[0m\u001b[0m\n\u001b[1;32m   3478\u001b[0m     output_structure = nest.pack_sequence_as(\n",
      "\u001b[0;32m~/.conda/envs/tf15/lib/python3.6/site-packages/tensorflow_core/python/client/session.py\u001b[0m in \u001b[0;36m__call__\u001b[0;34m(self, *args, **kwargs)\u001b[0m\n\u001b[1;32m   1470\u001b[0m         ret = tf_session.TF_SessionRunCallable(self._session._session,\n\u001b[1;32m   1471\u001b[0m                                                \u001b[0mself\u001b[0m\u001b[0;34m.\u001b[0m\u001b[0m_handle\u001b[0m\u001b[0;34m,\u001b[0m \u001b[0margs\u001b[0m\u001b[0;34m,\u001b[0m\u001b[0;34m\u001b[0m\u001b[0;34m\u001b[0m\u001b[0m\n\u001b[0;32m-> 1472\u001b[0;31m                                                run_metadata_ptr)\n\u001b[0m\u001b[1;32m   1473\u001b[0m         \u001b[0;32mif\u001b[0m \u001b[0mrun_metadata\u001b[0m\u001b[0;34m:\u001b[0m\u001b[0;34m\u001b[0m\u001b[0;34m\u001b[0m\u001b[0m\n\u001b[1;32m   1474\u001b[0m           \u001b[0mproto_data\u001b[0m \u001b[0;34m=\u001b[0m \u001b[0mtf_session\u001b[0m\u001b[0;34m.\u001b[0m\u001b[0mTF_GetBuffer\u001b[0m\u001b[0;34m(\u001b[0m\u001b[0mrun_metadata_ptr\u001b[0m\u001b[0;34m)\u001b[0m\u001b[0;34m\u001b[0m\u001b[0;34m\u001b[0m\u001b[0m\n",
      "\u001b[0;31mKeyboardInterrupt\u001b[0m: "
     ]
    }
   ],
   "source": [
    "# Fit model\n",
    "rmw_model_ebt.fit(\n",
    "    [x_train_2, ebt_train_2],\n",
    "    rmw_train_2,\n",
    "    batch_size=200, \n",
    "    epochs=REGRESSION_EBT_EPOCHS,\n",
    "    initial_epoch=0,\n",
    "    validation_data=[[x_dev_2, ebt_dev_2], rmw_dev_2],\n",
    "    callbacks=[log_reg_ebt, cp_reg_ebt, lr_decay_reg_ebt],\n",
    ")"
   ]
  },
  {
   "cell_type": "code",
   "execution_count": 45,
   "metadata": {},
   "outputs": [
    {
     "name": "stdout",
     "output_type": "stream",
     "text": [
      "MSE: 880.3210027647272\n",
      "RMSE: 29.670203955563352\n"
     ]
    }
   ],
   "source": [
    "preds = rmw_model_ebt.predict([x_dev_2, ebt_dev_2]).flatten()\n",
    "resid = preds - rmw_dev_2\n",
    "print(f'MSE: {np.mean(np.power(resid, 2))}')\n",
    "print(f'RMSE: {np.sqrt(np.mean(np.power(resid, 2)))}')"
   ]
  },
  {
   "cell_type": "code",
   "execution_count": 48,
   "metadata": {},
   "outputs": [
    {
     "name": "stdout",
     "output_type": "stream",
     "text": [
      "MSE: 995.9332488717633\n",
      "RMSE: 31.558410113181612\n"
     ]
    }
   ],
   "source": [
    "preds = rmw_model_ebt.predict([x_train_2, ebt_train_2]).flatten()\n",
    "resid = preds - rmw_train_2\n",
    "print(f'MSE: {np.mean(np.power(resid, 2))}')\n",
    "print(f'RMSE: {np.sqrt(np.mean(np.power(resid, 2)))}')"
   ]
  },
  {
   "cell_type": "markdown",
   "metadata": {},
   "source": [
    "# Fine Tune the Regression Model"
   ]
  },
  {
   "cell_type": "code",
   "execution_count": 49,
   "metadata": {},
   "outputs": [],
   "source": [
    "# Unfreeze the CNN layers for fine tuning\n",
    "filter_model.trainable = True"
   ]
  },
  {
   "cell_type": "code",
   "execution_count": 50,
   "metadata": {},
   "outputs": [],
   "source": [
    "## GOES Model\n",
    "#model_to_tune = rmw_model\n",
    "#reg_epochs = REGRESSION_EPOCHS\n",
    "#log_to_append = path_r_logs\n",
    "#cp_to_append = cp_reg\n",
    "\n",
    "# GOES + EBT Model\n",
    "model_to_tune = rmw_model_ebt\n",
    "reg_epochs = REGRESSION_EBT_EPOCHS\n",
    "log_to_append = path_r_ebt_logs\n",
    "cp_to_append = cp_reg_ebt"
   ]
  },
  {
   "cell_type": "code",
   "execution_count": 52,
   "metadata": {},
   "outputs": [],
   "source": [
    "# Compile model\n",
    "TUNE_LEARNING_RATE = 1e-5 # For transfer learning\n",
    "#TUNE_LEARNING_RATE = 1e-4 # For non transfer learning\n",
    "TUNE_DECAY_RATE = 0.98 # For transfer learning\n",
    "#TUNE_DECAY_RATE = 0.95 # For non-transfer learning\n",
    "TUNE_EPOCHS = 500\n",
    "\n",
    "#REGRESSION_EPOCHS = 0 # For non-transfer learning\n",
    "\n",
    "compile_kwargs_tune = {\n",
    "                \"optimizer\": optimizers.Adam(lr=TUNE_LEARNING_RATE),\n",
    "                \"loss\": tf.keras.losses.MeanSquaredError(name = 'mse'),\n",
    "                \"metrics\": [rmse]\n",
    "            }\n",
    "\n",
    "model_to_tune.compile(**compile_kwargs_tune)"
   ]
  },
  {
   "cell_type": "code",
   "execution_count": 53,
   "metadata": {},
   "outputs": [],
   "source": [
    "lr_decay_tune = LearningRateScheduler(\n",
    "    schedule=lambda epoch: TUNE_LEARNING_RATE * (TUNE_DECAY_RATE ** (epoch - reg_epochs))\n",
    ")\n",
    "log_tune = CSVLogger(str(log_to_append / \"log.csv\"), append = True)"
   ]
  },
  {
   "cell_type": "code",
   "execution_count": null,
   "metadata": {},
   "outputs": [],
   "source": [
    "# GOES model\n",
    "model_to_tune.fit(\n",
    "    x_train_2,\n",
    "    rmw_train_2,\n",
    "    batch_size=200, \n",
    "    epochs=TUNE_EPOCHS,\n",
    "    initial_epoch=reg_epochs,\n",
    "    validation_data=[x_dev_2, rmw_dev_2],\n",
    "    callbacks=[log_tune, cp_reg, lr_decay_tune],\n",
    ")"
   ]
  },
  {
   "cell_type": "code",
   "execution_count": 55,
   "metadata": {},
   "outputs": [
    {
     "name": "stdout",
     "output_type": "stream",
     "text": [
      "Train on 1558 samples, validate on 214 samples\n",
      "Epoch 101/500\n",
      "1558/1558 [==============================] - 5s 3ms/step - loss: 1104.3933 - rmse: 33.1034 - val_loss: 869.4589 - val_rmse: 26.1652\n",
      "\n",
      "Epoch 00101: val_loss improved from 879.99612 to 869.45891, saving model to /jet/home/gvincent/encapZulate-1/src/results/CNNbaseline/2022-05-10/regression_step/goes_and_ebt/weights/weights-101.h5\n",
      "Epoch 102/500\n",
      "1558/1558 [==============================] - 1s 373us/step - loss: 1173.8987 - rmse: 34.1033 - val_loss: 881.6263 - val_rmse: 26.4743\n",
      "\n",
      "Epoch 00102: val_loss did not improve from 869.45891\n",
      "Epoch 103/500\n",
      "1558/1558 [==============================] - 1s 368us/step - loss: 1150.2411 - rmse: 33.9236 - val_loss: 872.4314 - val_rmse: 26.2523\n",
      "\n",
      "Epoch 00103: val_loss did not improve from 869.45891\n",
      "Epoch 104/500\n",
      "1558/1558 [==============================] - 1s 367us/step - loss: 1130.4614 - rmse: 33.4524 - val_loss: 868.9870 - val_rmse: 26.2030\n",
      "\n",
      "Epoch 00104: val_loss improved from 869.45891 to 868.98704, saving model to /jet/home/gvincent/encapZulate-1/src/results/CNNbaseline/2022-05-10/regression_step/goes_and_ebt/weights/weights-104.h5\n",
      "Epoch 105/500\n",
      "1558/1558 [==============================] - 1s 365us/step - loss: 1141.2150 - rmse: 33.7328 - val_loss: 872.7613 - val_rmse: 26.3279\n",
      "\n",
      "Epoch 00105: val_loss did not improve from 868.98704\n",
      "Epoch 106/500\n",
      "1558/1558 [==============================] - 1s 359us/step - loss: 1163.0490 - rmse: 33.9911 - val_loss: 884.2259 - val_rmse: 26.6615\n",
      "\n",
      "Epoch 00106: val_loss did not improve from 868.98704\n",
      "Epoch 107/500\n",
      "1558/1558 [==============================] - 1s 359us/step - loss: 1171.2664 - rmse: 34.2216 - val_loss: 864.5545 - val_rmse: 26.1092\n",
      "\n",
      "Epoch 00107: val_loss improved from 868.98704 to 864.55451, saving model to /jet/home/gvincent/encapZulate-1/src/results/CNNbaseline/2022-05-10/regression_step/goes_and_ebt/weights/weights-107.h5\n",
      "Epoch 108/500\n",
      "1558/1558 [==============================] - 1s 356us/step - loss: 1147.4222 - rmse: 33.8575 - val_loss: 862.9210 - val_rmse: 26.1127\n",
      "\n",
      "Epoch 00108: val_loss improved from 864.55451 to 862.92098, saving model to /jet/home/gvincent/encapZulate-1/src/results/CNNbaseline/2022-05-10/regression_step/goes_and_ebt/weights/weights-108.h5\n",
      "Epoch 109/500\n",
      "1558/1558 [==============================] - 1s 369us/step - loss: 1131.0059 - rmse: 33.6152 - val_loss: 865.3907 - val_rmse: 26.2114\n",
      "\n",
      "Epoch 00109: val_loss did not improve from 862.92098\n",
      "Epoch 110/500\n",
      "1558/1558 [==============================] - 1s 357us/step - loss: 1121.6496 - rmse: 33.4822 - val_loss: 873.5794 - val_rmse: 26.4311\n",
      "\n",
      "Epoch 00110: val_loss did not improve from 862.92098\n",
      "Epoch 111/500\n",
      "1558/1558 [==============================] - 1s 370us/step - loss: 1130.4252 - rmse: 33.4836 - val_loss: 871.2912 - val_rmse: 26.3589\n",
      "\n",
      "Epoch 00111: val_loss did not improve from 862.92098\n",
      "Epoch 112/500\n",
      "1558/1558 [==============================] - 1s 369us/step - loss: 1086.6604 - rmse: 32.8150 - val_loss: 862.8057 - val_rmse: 26.1173\n",
      "\n",
      "Epoch 00112: val_loss improved from 862.92098 to 862.80569, saving model to /jet/home/gvincent/encapZulate-1/src/results/CNNbaseline/2022-05-10/regression_step/goes_and_ebt/weights/weights-112.h5\n",
      "Epoch 113/500\n",
      "1558/1558 [==============================] - 1s 371us/step - loss: 1113.8130 - rmse: 33.0754 - val_loss: 859.9269 - val_rmse: 26.0448\n",
      "\n",
      "Epoch 00113: val_loss improved from 862.80569 to 859.92689, saving model to /jet/home/gvincent/encapZulate-1/src/results/CNNbaseline/2022-05-10/regression_step/goes_and_ebt/weights/weights-113.h5\n",
      "Epoch 114/500\n",
      "1558/1558 [==============================] - 1s 352us/step - loss: 1103.8961 - rmse: 33.1628 - val_loss: 870.6111 - val_rmse: 26.3407\n",
      "\n",
      "Epoch 00114: val_loss did not improve from 859.92689\n",
      "Epoch 115/500\n",
      "1558/1558 [==============================] - 1s 360us/step - loss: 1107.5005 - rmse: 33.2440 - val_loss: 872.4738 - val_rmse: 26.3841\n",
      "\n",
      "Epoch 00115: val_loss did not improve from 859.92689\n",
      "Epoch 116/500\n",
      "1558/1558 [==============================] - 1s 362us/step - loss: 1058.3145 - rmse: 32.3966 - val_loss: 864.3187 - val_rmse: 26.1463\n",
      "\n",
      "Epoch 00116: val_loss did not improve from 859.92689\n",
      "Epoch 117/500\n",
      "1558/1558 [==============================] - 1s 370us/step - loss: 1081.7549 - rmse: 32.8172 - val_loss: 857.6279 - val_rmse: 25.9944\n",
      "\n",
      "Epoch 00117: val_loss improved from 859.92689 to 857.62786, saving model to /jet/home/gvincent/encapZulate-1/src/results/CNNbaseline/2022-05-10/regression_step/goes_and_ebt/weights/weights-117.h5\n",
      "Epoch 118/500\n",
      "1558/1558 [==============================] - 1s 354us/step - loss: 1092.0664 - rmse: 33.0491 - val_loss: 857.9095 - val_rmse: 26.0267\n",
      "\n",
      "Epoch 00118: val_loss did not improve from 857.62786\n",
      "Epoch 119/500\n",
      "1558/1558 [==============================] - 1s 371us/step - loss: 1078.2923 - rmse: 32.8249 - val_loss: 864.5097 - val_rmse: 26.2134\n",
      "\n",
      "Epoch 00119: val_loss did not improve from 857.62786\n",
      "Epoch 120/500\n",
      "1558/1558 [==============================] - 1s 369us/step - loss: 1105.8091 - rmse: 33.2978 - val_loss: 860.7285 - val_rmse: 26.1049\n",
      "\n",
      "Epoch 00120: val_loss did not improve from 857.62786\n",
      "Epoch 121/500\n",
      "1558/1558 [==============================] - 1s 356us/step - loss: 1045.4034 - rmse: 32.2986 - val_loss: 858.2832 - val_rmse: 26.0509\n",
      "\n",
      "Epoch 00121: val_loss did not improve from 857.62786\n",
      "Epoch 122/500\n",
      "1558/1558 [==============================] - 1s 363us/step - loss: 1051.3220 - rmse: 32.2947 - val_loss: 852.8459 - val_rmse: 25.9170\n",
      "\n",
      "Epoch 00122: val_loss improved from 857.62786 to 852.84594, saving model to /jet/home/gvincent/encapZulate-1/src/results/CNNbaseline/2022-05-10/regression_step/goes_and_ebt/weights/weights-122.h5\n",
      "Epoch 123/500\n",
      "1558/1558 [==============================] - 1s 353us/step - loss: 1100.2279 - rmse: 32.9426 - val_loss: 861.3272 - val_rmse: 26.1350\n",
      "\n",
      "Epoch 00123: val_loss did not improve from 852.84594\n",
      "Epoch 124/500\n",
      "1558/1558 [==============================] - 1s 365us/step - loss: 1099.6388 - rmse: 32.9665 - val_loss: 862.0111 - val_rmse: 26.1508\n",
      "\n",
      "Epoch 00124: val_loss did not improve from 852.84594\n",
      "Epoch 125/500\n",
      "1558/1558 [==============================] - 1s 347us/step - loss: 1100.1059 - rmse: 33.0494 - val_loss: 862.5301 - val_rmse: 26.1827\n",
      "\n",
      "Epoch 00125: val_loss did not improve from 852.84594\n",
      "Epoch 126/500\n",
      "1558/1558 [==============================] - 1s 361us/step - loss: 1105.2077 - rmse: 33.2175 - val_loss: 855.7097 - val_rmse: 25.9929\n",
      "\n",
      "Epoch 00126: val_loss did not improve from 852.84594\n",
      "Epoch 127/500\n",
      "1558/1558 [==============================] - 1s 348us/step - loss: 1105.2243 - rmse: 33.1250 - val_loss: 850.6700 - val_rmse: 25.8509\n",
      "\n",
      "Epoch 00127: val_loss improved from 852.84594 to 850.67002, saving model to /jet/home/gvincent/encapZulate-1/src/results/CNNbaseline/2022-05-10/regression_step/goes_and_ebt/weights/weights-127.h5\n",
      "Epoch 128/500\n",
      "1558/1558 [==============================] - 1s 377us/step - loss: 1064.6701 - rmse: 32.4364 - val_loss: 852.0561 - val_rmse: 25.9018\n",
      "\n",
      "Epoch 00128: val_loss did not improve from 850.67002\n",
      "Epoch 129/500\n",
      "1558/1558 [==============================] - 1s 341us/step - loss: 1086.3430 - rmse: 32.8622 - val_loss: 855.2512 - val_rmse: 25.9809\n",
      "\n",
      "Epoch 00129: val_loss did not improve from 850.67002\n",
      "Epoch 130/500\n",
      "1558/1558 [==============================] - 1s 342us/step - loss: 1043.8492 - rmse: 32.2883 - val_loss: 853.2117 - val_rmse: 25.9224\n",
      "\n",
      "Epoch 00130: val_loss did not improve from 850.67002\n",
      "Epoch 131/500\n",
      "1558/1558 [==============================] - 1s 357us/step - loss: 1101.9805 - rmse: 33.1826 - val_loss: 852.7370 - val_rmse: 25.9337\n",
      "\n",
      "Epoch 00131: val_loss did not improve from 850.67002\n",
      "Epoch 132/500\n",
      "1558/1558 [==============================] - 1s 378us/step - loss: 1063.2631 - rmse: 32.5209 - val_loss: 850.8140 - val_rmse: 25.8731\n",
      "\n",
      "Epoch 00132: val_loss did not improve from 850.67002\n",
      "Epoch 133/500\n",
      "1558/1558 [==============================] - 1s 370us/step - loss: 1099.6483 - rmse: 33.0654 - val_loss: 856.0854 - val_rmse: 26.0346\n",
      "\n",
      "Epoch 00133: val_loss did not improve from 850.67002\n",
      "Epoch 134/500\n",
      "1558/1558 [==============================] - 1s 341us/step - loss: 1099.7383 - rmse: 33.2020 - val_loss: 856.6456 - val_rmse: 26.0825\n",
      "\n",
      "Epoch 00134: val_loss did not improve from 850.67002\n",
      "Epoch 135/500\n",
      "1558/1558 [==============================] - 1s 362us/step - loss: 1067.6237 - rmse: 32.6003 - val_loss: 855.8689 - val_rmse: 26.0790\n",
      "\n",
      "Epoch 00135: val_loss did not improve from 850.67002\n",
      "Epoch 136/500\n",
      "1558/1558 [==============================] - 1s 348us/step - loss: 1034.9594 - rmse: 31.9716 - val_loss: 851.6426 - val_rmse: 25.9440\n",
      "\n",
      "Epoch 00136: val_loss did not improve from 850.67002\n",
      "Epoch 137/500\n",
      "1558/1558 [==============================] - 1s 358us/step - loss: 1050.7149 - rmse: 32.2766 - val_loss: 848.6626 - val_rmse: 25.8733\n",
      "\n",
      "Epoch 00137: val_loss improved from 850.67002 to 848.66264, saving model to /jet/home/gvincent/encapZulate-1/src/results/CNNbaseline/2022-05-10/regression_step/goes_and_ebt/weights/weights-137.h5\n",
      "Epoch 138/500\n",
      "1558/1558 [==============================] - 1s 387us/step - loss: 1073.2461 - rmse: 32.8153 - val_loss: 852.1190 - val_rmse: 25.9538\n",
      "\n",
      "Epoch 00138: val_loss did not improve from 848.66264\n",
      "Epoch 139/500\n",
      "1558/1558 [==============================] - 1s 351us/step - loss: 1082.7713 - rmse: 32.8584 - val_loss: 856.6645 - val_rmse: 26.0682\n",
      "\n",
      "Epoch 00139: val_loss did not improve from 848.66264\n",
      "Epoch 140/500\n",
      "1558/1558 [==============================] - 1s 346us/step - loss: 1069.7900 - rmse: 32.7139 - val_loss: 854.5704 - val_rmse: 26.0008\n",
      "\n",
      "Epoch 00140: val_loss did not improve from 848.66264\n",
      "Epoch 141/500\n",
      "1558/1558 [==============================] - 1s 357us/step - loss: 1058.8458 - rmse: 32.5173 - val_loss: 850.3321 - val_rmse: 25.9080\n",
      "\n",
      "Epoch 00141: val_loss did not improve from 848.66264\n",
      "Epoch 142/500\n",
      "1558/1558 [==============================] - 1s 346us/step - loss: 1051.0444 - rmse: 32.3792 - val_loss: 847.0039 - val_rmse: 25.8307\n",
      "\n",
      "Epoch 00142: val_loss improved from 848.66264 to 847.00387, saving model to /jet/home/gvincent/encapZulate-1/src/results/CNNbaseline/2022-05-10/regression_step/goes_and_ebt/weights/weights-142.h5\n",
      "Epoch 143/500\n",
      "1558/1558 [==============================] - 1s 370us/step - loss: 1068.8439 - rmse: 32.6185 - val_loss: 851.1433 - val_rmse: 25.9544\n",
      "\n",
      "Epoch 00143: val_loss did not improve from 847.00387\n",
      "Epoch 144/500\n",
      "1558/1558 [==============================] - 1s 357us/step - loss: 1061.3483 - rmse: 32.5107 - val_loss: 856.4962 - val_rmse: 26.1057\n",
      "\n",
      "Epoch 00144: val_loss did not improve from 847.00387\n",
      "Epoch 145/500\n",
      "1000/1558 [==================>...........] - ETA: 0s - loss: 1051.1264 - rmse: 32.3830"
     ]
    },
    {
     "ename": "KeyboardInterrupt",
     "evalue": "",
     "output_type": "error",
     "traceback": [
      "\u001b[0;31m---------------------------------------------------------------------------\u001b[0m",
      "\u001b[0;31mKeyboardInterrupt\u001b[0m                         Traceback (most recent call last)",
      "\u001b[0;32m<ipython-input-55-599eed208b4d>\u001b[0m in \u001b[0;36m<module>\u001b[0;34m\u001b[0m\n\u001b[1;32m      7\u001b[0m     \u001b[0minitial_epoch\u001b[0m\u001b[0;34m=\u001b[0m\u001b[0mreg_epochs\u001b[0m\u001b[0;34m,\u001b[0m\u001b[0;34m\u001b[0m\u001b[0;34m\u001b[0m\u001b[0m\n\u001b[1;32m      8\u001b[0m     \u001b[0mvalidation_data\u001b[0m\u001b[0;34m=\u001b[0m\u001b[0;34m[\u001b[0m\u001b[0;34m[\u001b[0m\u001b[0mx_dev_2\u001b[0m\u001b[0;34m,\u001b[0m \u001b[0mebt_dev_2\u001b[0m\u001b[0;34m]\u001b[0m\u001b[0;34m,\u001b[0m \u001b[0mrmw_dev_2\u001b[0m\u001b[0;34m]\u001b[0m\u001b[0;34m,\u001b[0m\u001b[0;34m\u001b[0m\u001b[0;34m\u001b[0m\u001b[0m\n\u001b[0;32m----> 9\u001b[0;31m     \u001b[0mcallbacks\u001b[0m\u001b[0;34m=\u001b[0m\u001b[0;34m[\u001b[0m\u001b[0mlog_tune\u001b[0m\u001b[0;34m,\u001b[0m \u001b[0mcp_reg_ebt\u001b[0m\u001b[0;34m,\u001b[0m \u001b[0mlr_decay_tune\u001b[0m\u001b[0;34m]\u001b[0m\u001b[0;34m,\u001b[0m\u001b[0;34m\u001b[0m\u001b[0;34m\u001b[0m\u001b[0m\n\u001b[0m\u001b[1;32m     10\u001b[0m )\n",
      "\u001b[0;32m~/.conda/envs/tf15/lib/python3.6/site-packages/keras/engine/training.py\u001b[0m in \u001b[0;36mfit\u001b[0;34m(self, x, y, batch_size, epochs, verbose, callbacks, validation_split, validation_data, shuffle, class_weight, sample_weight, initial_epoch, steps_per_epoch, validation_steps, validation_freq, max_queue_size, workers, use_multiprocessing, **kwargs)\u001b[0m\n\u001b[1;32m   1237\u001b[0m                                         \u001b[0msteps_per_epoch\u001b[0m\u001b[0;34m=\u001b[0m\u001b[0msteps_per_epoch\u001b[0m\u001b[0;34m,\u001b[0m\u001b[0;34m\u001b[0m\u001b[0;34m\u001b[0m\u001b[0m\n\u001b[1;32m   1238\u001b[0m                                         \u001b[0mvalidation_steps\u001b[0m\u001b[0;34m=\u001b[0m\u001b[0mvalidation_steps\u001b[0m\u001b[0;34m,\u001b[0m\u001b[0;34m\u001b[0m\u001b[0;34m\u001b[0m\u001b[0m\n\u001b[0;32m-> 1239\u001b[0;31m                                         validation_freq=validation_freq)\n\u001b[0m\u001b[1;32m   1240\u001b[0m \u001b[0;34m\u001b[0m\u001b[0m\n\u001b[1;32m   1241\u001b[0m     def evaluate(self,\n",
      "\u001b[0;32m~/.conda/envs/tf15/lib/python3.6/site-packages/keras/engine/training_arrays.py\u001b[0m in \u001b[0;36mfit_loop\u001b[0;34m(model, fit_function, fit_inputs, out_labels, batch_size, epochs, verbose, callbacks, val_function, val_inputs, shuffle, initial_epoch, steps_per_epoch, validation_steps, validation_freq)\u001b[0m\n\u001b[1;32m    194\u001b[0m                     \u001b[0mins_batch\u001b[0m\u001b[0;34m[\u001b[0m\u001b[0mi\u001b[0m\u001b[0;34m]\u001b[0m \u001b[0;34m=\u001b[0m \u001b[0mins_batch\u001b[0m\u001b[0;34m[\u001b[0m\u001b[0mi\u001b[0m\u001b[0;34m]\u001b[0m\u001b[0;34m.\u001b[0m\u001b[0mtoarray\u001b[0m\u001b[0;34m(\u001b[0m\u001b[0;34m)\u001b[0m\u001b[0;34m\u001b[0m\u001b[0;34m\u001b[0m\u001b[0m\n\u001b[1;32m    195\u001b[0m \u001b[0;34m\u001b[0m\u001b[0m\n\u001b[0;32m--> 196\u001b[0;31m                 \u001b[0mouts\u001b[0m \u001b[0;34m=\u001b[0m \u001b[0mfit_function\u001b[0m\u001b[0;34m(\u001b[0m\u001b[0mins_batch\u001b[0m\u001b[0;34m)\u001b[0m\u001b[0;34m\u001b[0m\u001b[0;34m\u001b[0m\u001b[0m\n\u001b[0m\u001b[1;32m    197\u001b[0m                 \u001b[0mouts\u001b[0m \u001b[0;34m=\u001b[0m \u001b[0mto_list\u001b[0m\u001b[0;34m(\u001b[0m\u001b[0mouts\u001b[0m\u001b[0;34m)\u001b[0m\u001b[0;34m\u001b[0m\u001b[0;34m\u001b[0m\u001b[0m\n\u001b[1;32m    198\u001b[0m                 \u001b[0;32mfor\u001b[0m \u001b[0ml\u001b[0m\u001b[0;34m,\u001b[0m \u001b[0mo\u001b[0m \u001b[0;32min\u001b[0m \u001b[0mzip\u001b[0m\u001b[0;34m(\u001b[0m\u001b[0mout_labels\u001b[0m\u001b[0;34m,\u001b[0m \u001b[0mouts\u001b[0m\u001b[0;34m)\u001b[0m\u001b[0;34m:\u001b[0m\u001b[0;34m\u001b[0m\u001b[0;34m\u001b[0m\u001b[0m\n",
      "\u001b[0;32m~/.conda/envs/tf15/lib/python3.6/site-packages/tensorflow_core/python/keras/backend.py\u001b[0m in \u001b[0;36m__call__\u001b[0;34m(self, inputs)\u001b[0m\n\u001b[1;32m   3474\u001b[0m \u001b[0;34m\u001b[0m\u001b[0m\n\u001b[1;32m   3475\u001b[0m     fetched = self._callable_fn(*array_vals,\n\u001b[0;32m-> 3476\u001b[0;31m                                 run_metadata=self.run_metadata)\n\u001b[0m\u001b[1;32m   3477\u001b[0m     \u001b[0mself\u001b[0m\u001b[0;34m.\u001b[0m\u001b[0m_call_fetch_callbacks\u001b[0m\u001b[0;34m(\u001b[0m\u001b[0mfetched\u001b[0m\u001b[0;34m[\u001b[0m\u001b[0;34m-\u001b[0m\u001b[0mlen\u001b[0m\u001b[0;34m(\u001b[0m\u001b[0mself\u001b[0m\u001b[0;34m.\u001b[0m\u001b[0m_fetches\u001b[0m\u001b[0;34m)\u001b[0m\u001b[0;34m:\u001b[0m\u001b[0;34m]\u001b[0m\u001b[0;34m)\u001b[0m\u001b[0;34m\u001b[0m\u001b[0;34m\u001b[0m\u001b[0m\n\u001b[1;32m   3478\u001b[0m     output_structure = nest.pack_sequence_as(\n",
      "\u001b[0;32m~/.conda/envs/tf15/lib/python3.6/site-packages/tensorflow_core/python/client/session.py\u001b[0m in \u001b[0;36m__call__\u001b[0;34m(self, *args, **kwargs)\u001b[0m\n\u001b[1;32m   1470\u001b[0m         ret = tf_session.TF_SessionRunCallable(self._session._session,\n\u001b[1;32m   1471\u001b[0m                                                \u001b[0mself\u001b[0m\u001b[0;34m.\u001b[0m\u001b[0m_handle\u001b[0m\u001b[0;34m,\u001b[0m \u001b[0margs\u001b[0m\u001b[0;34m,\u001b[0m\u001b[0;34m\u001b[0m\u001b[0;34m\u001b[0m\u001b[0m\n\u001b[0;32m-> 1472\u001b[0;31m                                                run_metadata_ptr)\n\u001b[0m\u001b[1;32m   1473\u001b[0m         \u001b[0;32mif\u001b[0m \u001b[0mrun_metadata\u001b[0m\u001b[0;34m:\u001b[0m\u001b[0;34m\u001b[0m\u001b[0;34m\u001b[0m\u001b[0m\n\u001b[1;32m   1474\u001b[0m           \u001b[0mproto_data\u001b[0m \u001b[0;34m=\u001b[0m \u001b[0mtf_session\u001b[0m\u001b[0;34m.\u001b[0m\u001b[0mTF_GetBuffer\u001b[0m\u001b[0;34m(\u001b[0m\u001b[0mrun_metadata_ptr\u001b[0m\u001b[0;34m)\u001b[0m\u001b[0;34m\u001b[0m\u001b[0;34m\u001b[0m\u001b[0m\n",
      "\u001b[0;31mKeyboardInterrupt\u001b[0m: "
     ]
    }
   ],
   "source": [
    "# GOES + EBT model\n",
    "model_to_tune.fit(\n",
    "    [x_train_2, ebt_train_2],\n",
    "    rmw_train_2,\n",
    "    batch_size=200, \n",
    "    epochs=TUNE_EPOCHS,\n",
    "    initial_epoch=reg_epochs,\n",
    "    validation_data=[[x_dev_2, ebt_dev_2], rmw_dev_2],\n",
    "    callbacks=[log_tune, cp_reg_ebt, lr_decay_tune],\n",
    ")"
   ]
  },
  {
   "cell_type": "code",
   "execution_count": 30,
   "metadata": {},
   "outputs": [
    {
     "name": "stdout",
     "output_type": "stream",
     "text": [
      "214/214 [==============================] - 1s 3ms/step\n"
     ]
    },
    {
     "data": {
      "text/plain": [
       "[893.8514700916326, 33.2125129699707]"
      ]
     },
     "execution_count": 30,
     "metadata": {},
     "output_type": "execute_result"
    }
   ],
   "source": [
    "rmw_model.evaluate(x_dev_2, rmw_dev_2)"
   ]
  },
  {
   "cell_type": "code",
   "execution_count": 31,
   "metadata": {},
   "outputs": [
    {
     "data": {
      "text/plain": [
       "29.8973488806555"
      ]
     },
     "execution_count": 31,
     "metadata": {},
     "output_type": "execute_result"
    }
   ],
   "source": [
    "np.sqrt(893.8514700916326)"
   ]
  },
  {
   "cell_type": "code",
   "execution_count": 34,
   "metadata": {},
   "outputs": [],
   "source": [
    "preds = rmw_model.predict(x_dev_2).flatten()"
   ]
  },
  {
   "cell_type": "code",
   "execution_count": 38,
   "metadata": {},
   "outputs": [
    {
     "data": {
      "text/plain": [
       "893.8514939274334"
      ]
     },
     "execution_count": 38,
     "metadata": {},
     "output_type": "execute_result"
    }
   ],
   "source": [
    "np.mean((preds - rmw_dev_2)**2)"
   ]
  },
  {
   "cell_type": "code",
   "execution_count": 39,
   "metadata": {},
   "outputs": [
    {
     "data": {
      "text/plain": [
       "29.897349279282828"
      ]
     },
     "execution_count": 39,
     "metadata": {},
     "output_type": "execute_result"
    }
   ],
   "source": [
    "np.sqrt(np.mean((preds - rmw_dev_2)**2))"
   ]
  },
  {
   "cell_type": "markdown",
   "metadata": {},
   "source": [
    "## Ignore section below, this is code to test out binned regression"
   ]
  },
  {
   "cell_type": "code",
   "execution_count": null,
   "metadata": {},
   "outputs": [],
   "source": [
    "## Doing stuff to test out binned regression\n",
    "\n",
    "bins = np.arange(np.min(rmw_train) - 2.5, np.max(rmw_train) + 2.5, 5)\n",
    "rmw_train_binned = keras.utils.to_categorical(\n",
    "    np.digitize(rmw_train, bins) - 1,\n",
    "    num_classes = len(bins)\n",
    ")\n",
    "\n",
    "rmw_dev_binned = keras.utils.to_categorical(\n",
    "    np.digitize(rmw_dev, bins) - 1,\n",
    "    num_classes = len(bins)\n",
    ")\n",
    "\n",
    "compile_kwargs = {\n",
    "                \"optimizer\": optimizers.Adam(lr=config[\"learning_rate\"]),\n",
    "                \"loss\": 'categorical_crossentropy',\n",
    "                \"metrics\": ['accuracy']\n",
    "            }\n",
    "\n",
    "train_model.compile(**compile_kwargs)\n",
    "\n",
    "\n",
    "# Set Callbacks\n",
    "lr_decay = LearningRateScheduler(\n",
    "    schedule=lambda epoch: 1e-4 * (config[\"decay_rate\"] ** epoch)\n",
    ")\n",
    "log = CSVLogger(str(path_logs / \"log.csv\"))\n",
    "cp = ModelCheckpoint(\n",
    "    filepath=str(path_weights / \"weights-{epoch:02d}.h5\"),\n",
    "    save_best_only=False,\n",
    "    save_weights_only=True,\n",
    "    verbose=1,\n",
    "    mode=\"max\",\n",
    ")\n",
    "\n",
    "# Straight weighting of the loss function to weight classes\n",
    "\n",
    "train_model.fit(\n",
    "            x_train,\n",
    "            rmw_train_binned,\n",
    "            batch_size=config[\"batch_size\"],\n",
    "            epochs=config[\"epochs\"],\n",
    "            initial_epoch=0,\n",
    "            validation_data=[x_dev, rmw_dev_binned],\n",
    "            callbacks=[log, cp, lr_decay],\n",
    "        )"
   ]
  },
  {
   "cell_type": "markdown",
   "metadata": {},
   "source": [
    "# Training Visualization"
   ]
  },
  {
   "cell_type": "markdown",
   "metadata": {},
   "source": [
    "### Classifier"
   ]
  },
  {
   "cell_type": "code",
   "execution_count": 14,
   "metadata": {},
   "outputs": [],
   "source": [
    "train_log = pd.read_csv(path_c_logs / 'log.csv')"
   ]
  },
  {
   "cell_type": "code",
   "execution_count": 15,
   "metadata": {},
   "outputs": [
    {
     "data": {
      "image/png": "[encoded data removed]",
      "text/plain": [
       "<Figure size 1440x1440 with 4 Axes>"
      ]
     },
     "metadata": {},
     "output_type": "display_data"
    }
   ],
   "source": [
    "x = train_log.epoch + 1\n",
    "\n",
    "font = {'size': 12}\n",
    "plt.rc('font', **font)\n",
    "\n",
    "fig, axs = plt.subplots(nrows = 2, ncols = 2, figsize = (20, 20))\n",
    "\n",
    "axs[0,0].plot(x, train_log.accuracy, label = 'training')\n",
    "axs[0,0].plot(x, train_log.val_accuracy, label = 'validation')\n",
    "axs[0,0].legend(loc = 'lower right')\n",
    "#ax1.set_ylim([0.5, 1])\n",
    "axs[0,0].set_xlabel('Epoch')\n",
    "axs[0,0].set_ylabel('Accuracy')\n",
    "\n",
    "axs[0,1].plot(x, train_log.loss, label = 'training')\n",
    "axs[0,1].plot(x, train_log.val_loss, label = 'validation')\n",
    "axs[0,1].legend(loc = 'upper right')\n",
    "axs[0,1].set_xlabel('Epoch')\n",
    "axs[0,1].set_ylabel('Loss')\n",
    "\n",
    "axs[1,0].plot(x, train_log.TS_prec, label = 'TS - training')\n",
    "axs[1,0].plot(x, train_log.val_TS_prec, label = 'TS - validation')\n",
    "axs[1,0].plot(x, train_log.HU_prec, label = 'HU - training')\n",
    "axs[1,0].plot(x, train_log.val_HU_prec, label = 'HU - validation')\n",
    "axs[1,0].plot(x, train_log.MH_prec, label = 'MH - training')\n",
    "axs[1,0].plot(x, train_log.val_MH_prec, label = 'MH - validation')\n",
    "axs[1,0].legend(loc = 'lower right')\n",
    "axs[1,0].set_xlabel('Epoch')\n",
    "axs[1,0].set_ylabel('Precision')\n",
    "\n",
    "axs[1,1].plot(x, train_log.TS_recall, label = 'TS - training')\n",
    "axs[1,1].plot(x, train_log.val_TS_recall, label = 'TS - validation')\n",
    "axs[1,1].plot(x, train_log.HU_recall, label = 'HU - training')\n",
    "axs[1,1].plot(x, train_log.val_HU_recall, label = 'HU - validation')\n",
    "axs[1,1].plot(x, train_log.MH_recall, label = 'MH - training')\n",
    "axs[1,1].plot(x, train_log.val_MH_recall, label = 'MH - validation')\n",
    "axs[1,1].legend(loc = 'lower right')\n",
    "axs[1,1].set_xlabel('Epoch')\n",
    "axs[1,1].set_ylabel('Recall')\n",
    "\n",
    "plt.show()"
   ]
  },
  {
   "cell_type": "markdown",
   "metadata": {},
   "source": [
    "### Regression"
   ]
  },
  {
   "cell_type": "code",
   "execution_count": 29,
   "metadata": {},
   "outputs": [],
   "source": [
    "train_log_reg = pd.read_csv(path_r_logs / 'log.csv')"
   ]
  },
  {
   "cell_type": "code",
   "execution_count": 31,
   "metadata": {},
   "outputs": [
    {
     "data": {
      "image/png": "[encoded data removed]",
      "text/plain": [
       "<Figure size 864x576 with 1 Axes>"
      ]
     },
     "metadata": {},
     "output_type": "display_data"
    }
   ],
   "source": [
    "x = train_log_reg.epoch + 1\n",
    "\n",
    "font = {'size': 12}\n",
    "plt.rc('font', **font)\n",
    "\n",
    "fig = plt.figure(figsize = (12, 8))\n",
    "ax1 = fig.gca()\n",
    "\n",
    "ax1.plot(x, train_log_reg.rmse, label = 'training')\n",
    "ax1.plot(x, train_log_reg.val_rmse, label = 'validation')\n",
    "ax1.legend(loc = 'upper right')\n",
    "ax1.set_xlabel('Epoch')\n",
    "ax1.set_ylabel('RMSE')\n",
    "\n",
    "plt.show()"
   ]
  },
  {
   "cell_type": "code",
   "execution_count": 43,
   "metadata": {},
   "outputs": [
    {
     "data": {
      "text/plain": [
       "888.9376406090283"
      ]
     },
     "execution_count": 43,
     "metadata": {},
     "output_type": "execute_result"
    }
   ],
   "source": [
    "np.min(train_log_reg.val_loss)"
   ]
  },
  {
   "cell_type": "code",
   "execution_count": 44,
   "metadata": {},
   "outputs": [
    {
     "data": {
      "text/plain": [
       "29.815057279989055"
      ]
     },
     "execution_count": 44,
     "metadata": {},
     "output_type": "execute_result"
    }
   ],
   "source": [
    "np.sqrt(888.9376406090283)"
   ]
  },
  {
   "cell_type": "markdown",
   "metadata": {},
   "source": [
    "### Further Regression evaluation"
   ]
  },
  {
   "cell_type": "code",
   "execution_count": 53,
   "metadata": {},
   "outputs": [
    {
     "data": {
      "text/plain": [
       "(327, 200, 200, 1)"
      ]
     },
     "execution_count": 53,
     "metadata": {},
     "output_type": "execute_result"
    }
   ],
   "source": [
    "x_fulltest = np.concatenate((x_test_2, x_dev_2))\n",
    "x_fulltest.shape"
   ]
  },
  {
   "cell_type": "code",
   "execution_count": 54,
   "metadata": {},
   "outputs": [
    {
     "data": {
      "text/plain": [
       "(327,)"
      ]
     },
     "execution_count": 54,
     "metadata": {},
     "output_type": "execute_result"
    }
   ],
   "source": [
    "rmw_fulltest = np.concatenate((rmw_test_2, rmw_dev_2))\n",
    "rmw_fulltest.shape"
   ]
  },
  {
   "cell_type": "code",
   "execution_count": null,
   "metadata": {},
   "outputs": [],
   "source": [
    "out = rmw_model.predict(x_fulltest).flatten()\n",
    "out.shape"
   ]
  },
  {
   "cell_type": "code",
   "execution_count": null,
   "metadata": {},
   "outputs": [],
   "source": [
    "resid = rmw_fulltest - out"
   ]
  },
  {
   "cell_type": "code",
   "execution_count": null,
   "metadata": {},
   "outputs": [],
   "source": [
    "plt.scatter(rmw_fulltest, resid)"
   ]
  },
  {
   "cell_type": "code",
   "execution_count": null,
   "metadata": {},
   "outputs": [],
   "source": [
    "fig = plt.figure(figsize = (8, 8))\n",
    "plt.scatter(rmw_fulltest, out_preds)\n",
    "plt.plot([0, 200], [0, 200], color = 'red')\n",
    "plt.xlim([0, 200])\n",
    "plt.ylim([0, 200])\n",
    "plt.gca().set_aspect('equal')"
   ]
  },
  {
   "cell_type": "code",
   "execution_count": 55,
   "metadata": {},
   "outputs": [
    {
     "name": "stdout",
     "output_type": "stream",
     "text": [
      "Climatology RMSE: 40.61226962210578\n"
     ]
    }
   ],
   "source": [
    "#Climatology RMSE:\n",
    "clima = np.mean(rmw_train_2)\n",
    "print(f'Climatology RMSE: {np.sqrt(np.mean((clima - rmw_fulltest)**2))}')"
   ]
  },
  {
   "cell_type": "markdown",
   "metadata": {},
   "source": [
    "### TODO Next:\n",
    "* Implement the \"binned regression\" that the SDSS paper uses\n",
    "* Add dropout to help with overfitting\n",
    "* Pre-train classication network on storm category (or eye/no eye), then do a few epochs update for RMW\n",
    "    * Try both freezing CNN weights and only training dense layer, and not freezing anything\n",
    "    * Try augmentation... it could be worth it!\n",
    "* Try the RMW model above **wihtout** transfer learning and see what happens\n",
    "* Fit a linear baseline using only EOFs\n",
    "* Add other EBT variables to this NN baseline model\n",
    "* Compare to Knaff's results\n",
    "* Mess with the network architecture some, if you feel like it\n",
    "* Move on to getting ground truth labels for \"apparent eye\" from radial profiles, as discussed with Trey in Thursday 5/5 meeting"
   ]
  },
  {
   "cell_type": "code",
   "execution_count": null,
   "metadata": {},
   "outputs": [],
   "source": []
  },
  {
   "cell_type": "code",
   "execution_count": null,
   "metadata": {},
   "outputs": [],
   "source": []
  }
 ],
 "metadata": {
  "kernelspec": {
   "display_name": "capsule-net",
   "language": "python",
   "name": "capsule-net"
  },
  "language_info": {
   "codemirror_mode": {
    "name": "ipython",
    "version": 3
   },
   "file_extension": ".py",
   "mimetype": "text/x-python",
   "name": "python",
   "nbconvert_exporter": "python",
   "pygments_lexer": "ipython3",
   "version": "3.6.13"
  }
 },
 "nbformat": 4,
 "nbformat_minor": 4
}
